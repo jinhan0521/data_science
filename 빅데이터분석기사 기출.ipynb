{
 "cells": [
  {
   "cell_type": "markdown",
   "id": "b79d3c68",
   "metadata": {},
   "source": [
    "# 6회 기출문제"
   ]
  },
  {
   "cell_type": "code",
   "execution_count": null,
   "id": "31ee1ead",
   "metadata": {},
   "outputs": [],
   "source": [
    "import pandas as pd\n",
    "df = pd.read_csv('https://raw.githubusercontent.com/Datamanim/datarepo/main/krdatacertificate/e6_p1_1.csv')\n",
    "\n",
    "\n",
    "df['출동'] = pd.to_datetime(df['출동일자'].astype('str') + df['출동시각'].astype('str').str.zfill(6))\n",
    "df['신고'] = pd.to_datetime(df['신고일자'].astype('str') + df['신고시각'].astype('str').str.zfill(6))\n",
    "df['소요시간'] = df['출동'] - df['신고']\n",
    "\n",
    "df['소요시간'] = df['소요시간'].dt.total_seconds()\n",
    "print(df.groupby('소방서명').mean()['소요시간'].sort_values(ascending=True).reset_index().iloc[2])"
   ]
  },
  {
   "cell_type": "code",
   "execution_count": 111,
   "id": "714ea941",
   "metadata": {},
   "outputs": [
    {
     "name": "stderr",
     "output_type": "stream",
     "text": [
      "C:\\Users\\USER\\AppData\\Local\\Temp\\ipykernel_30940\\2126687587.py:6: SettingWithCopyWarning: \n",
      "A value is trying to be set on a copy of a slice from a DataFrame.\n",
      "Try using .loc[row_indexer,col_indexer] = value instead\n",
      "\n",
      "See the caveats in the documentation: https://pandas.pydata.org/pandas-docs/stable/user_guide/indexing.html#returning-a-view-versus-a-copy\n",
      "  normal_seoul['value'] = normal_seoul['일반학급_학생수_계'] / normal_seoul['교원수_총계_계']\n"
     ]
    },
    {
     "data": {
      "text/plain": [
       "33"
      ]
     },
     "execution_count": 111,
     "metadata": {},
     "output_type": "execute_result"
    }
   ],
   "source": [
    "import pandas as pd\n",
    "df = pd.read_csv('https://raw.githubusercontent.com/Datamanim/datarepo/main/krdatacertificate/e6_p1_2.csv')\n",
    "\n",
    "city = df[df['학교세부유형'] == '일반중학교'].groupby('시도').size().sort_values(ascending=False).index[1]\n",
    "normal_seoul = df[(df['학교세부유형'] == '일반중학교') & (df['시도'] == city)]\n",
    "normal_seoul['value'] = normal_seoul['일반학급_학생수_계'] / normal_seoul['교원수_총계_계']\n",
    "normal_seoul.sort_values('value', ascending=False).iloc[0]['교원수_총계_계']"
   ]
  },
  {
   "cell_type": "code",
   "execution_count": 151,
   "id": "7907b363",
   "metadata": {},
   "outputs": [
    {
     "name": "stderr",
     "output_type": "stream",
     "text": [
      "C:\\Users\\USER\\AppData\\Local\\Temp\\ipykernel_30940\\2412635823.py:4: FutureWarning: Dropping of nuisance columns in DataFrame reductions (with 'numeric_only=None') is deprecated; in a future version this will raise TypeError.  Select only valid columns before calling the reduction.\n",
      "  df['총범죄수'] = df.sum(axis=1)\n"
     ]
    },
    {
     "data": {
      "text/plain": [
       "27766"
      ]
     },
     "execution_count": 151,
     "metadata": {},
     "output_type": "execute_result"
    }
   ],
   "source": [
    "import pandas as pd\n",
    "df = pd.read_csv('https://raw.githubusercontent.com/Datamanim/datarepo/main/krdatacertificate/e6_p1_3.csv')\n",
    "\n",
    "df['총범죄수'] = df.sum(axis=1)\n",
    "df['년'] = df['범죄분류'].str.split('_').str.get(0)\n",
    "df.loc[df['범죄분류'].str.split('_').str.get(1).isin(['1월', '2월', '3월']), '분기'] = '1분기'\n",
    "df.loc[df['범죄분류'].str.split('_').str.get(1).isin(['4월', '5월', '6월']), '분기'] = '2분기'\n",
    "df.loc[df['범죄분류'].str.split('_').str.get(1).isin(['7월', '8월', '9월']), '분기'] = '3분기'\n",
    "df.loc[df['범죄분류'].str.split('_').str.get(1).isin(['10월', '11월', '12월']), '분기'] = '4분기'\n",
    "\n",
    "df.groupby(['년', '분기'], as_index=False).mean().sort_values('총범죄수', ascending=False).iloc[0][['년','분기']]\n",
    "df[(df['년'] == '2019년') & (df['분기'] == '2분기')]['사기'].max()"
   ]
  },
  {
   "cell_type": "code",
   "execution_count": 213,
   "id": "98f86649",
   "metadata": {},
   "outputs": [
    {
     "name": "stderr",
     "output_type": "stream",
     "text": [
      "C:\\Users\\USER\\AppData\\Local\\Temp\\ipykernel_30940\\2135768489.py:32: DataConversionWarning: A column-vector y was passed when a 1d array was expected. Please change the shape of y to (n_samples,), for example using ravel().\n",
      "  model.fit(X_train, y_train)\n"
     ]
    },
    {
     "name": "stdout",
     "output_type": "stream",
     "text": [
      "0.5672306322350846\n",
      "0.5545209106646997\n"
     ]
    },
    {
     "data": {
      "text/html": [
       "<div>\n",
       "<style scoped>\n",
       "    .dataframe tbody tr th:only-of-type {\n",
       "        vertical-align: middle;\n",
       "    }\n",
       "\n",
       "    .dataframe tbody tr th {\n",
       "        vertical-align: top;\n",
       "    }\n",
       "\n",
       "    .dataframe thead th {\n",
       "        text-align: right;\n",
       "    }\n",
       "</style>\n",
       "<table border=\"1\" class=\"dataframe\">\n",
       "  <thead>\n",
       "    <tr style=\"text-align: right;\">\n",
       "      <th></th>\n",
       "      <th>ID</th>\n",
       "      <th>General_Health</th>\n",
       "    </tr>\n",
       "  </thead>\n",
       "  <tbody>\n",
       "    <tr>\n",
       "      <th>0</th>\n",
       "      <td>ID_14547</td>\n",
       "      <td>Excellent</td>\n",
       "    </tr>\n",
       "    <tr>\n",
       "      <th>1</th>\n",
       "      <td>ID_26</td>\n",
       "      <td>Excellent</td>\n",
       "    </tr>\n",
       "    <tr>\n",
       "      <th>2</th>\n",
       "      <td>ID_14103</td>\n",
       "      <td>Excellent</td>\n",
       "    </tr>\n",
       "    <tr>\n",
       "      <th>3</th>\n",
       "      <td>ID_10946</td>\n",
       "      <td>Excellent</td>\n",
       "    </tr>\n",
       "    <tr>\n",
       "      <th>4</th>\n",
       "      <td>ID_1572</td>\n",
       "      <td>Excellent</td>\n",
       "    </tr>\n",
       "    <tr>\n",
       "      <th>...</th>\n",
       "      <td>...</td>\n",
       "      <td>...</td>\n",
       "    </tr>\n",
       "    <tr>\n",
       "      <th>4808</th>\n",
       "      <td>ID_12991</td>\n",
       "      <td>Excellent</td>\n",
       "    </tr>\n",
       "    <tr>\n",
       "      <th>4809</th>\n",
       "      <td>ID_13295</td>\n",
       "      <td>Good</td>\n",
       "    </tr>\n",
       "    <tr>\n",
       "      <th>4810</th>\n",
       "      <td>ID_2428</td>\n",
       "      <td>Fair</td>\n",
       "    </tr>\n",
       "    <tr>\n",
       "      <th>4811</th>\n",
       "      <td>ID_12719</td>\n",
       "      <td>Good</td>\n",
       "    </tr>\n",
       "    <tr>\n",
       "      <th>4812</th>\n",
       "      <td>ID_12691</td>\n",
       "      <td>Good</td>\n",
       "    </tr>\n",
       "  </tbody>\n",
       "</table>\n",
       "<p>4813 rows × 2 columns</p>\n",
       "</div>"
      ],
      "text/plain": [
       "            ID General_Health\n",
       "0     ID_14547      Excellent\n",
       "1        ID_26      Excellent\n",
       "2     ID_14103      Excellent\n",
       "3     ID_10946      Excellent\n",
       "4      ID_1572      Excellent\n",
       "...        ...            ...\n",
       "4808  ID_12991      Excellent\n",
       "4809  ID_13295           Good\n",
       "4810   ID_2428           Fair\n",
       "4811  ID_12719           Good\n",
       "4812  ID_12691           Good\n",
       "\n",
       "[4813 rows x 2 columns]"
      ]
     },
     "execution_count": 213,
     "metadata": {},
     "output_type": "execute_result"
    }
   ],
   "source": [
    "import pandas as pd\n",
    "train = pd.read_csv('https://raw.githubusercontent.com/Datamanim/datarepo/main/krdatacertificate/ep6_p2_train.csv')\n",
    "test = pd.read_csv('https://raw.githubusercontent.com/Datamanim/datarepo/main/krdatacertificate/ep6_p2_test.csv')\n",
    "\n",
    "# print(train.info())\n",
    "# print(train.nunique())\n",
    "# print(train.isna().sum())\n",
    "# print(train.columns)\n",
    "\n",
    "X = train[['Checkup', 'Exercise', 'Heart_Disease',\n",
    "       'Skin_Cancer', 'Other_Cancer', 'Depression', 'Diabetes', 'Arthritis',\n",
    "       'Sex', 'Age_Category', 'Height_(cm)', 'Weight_(kg)', 'BMI',\n",
    "       'Smoking_History', 'Alcohol_Consumption', 'Fruit_Consumption',\n",
    "       'Green_Vegetables_Consumption', 'FriedPotato_Consumption']]\n",
    "y = train[['General_Health']]\n",
    "\n",
    "test_2 = test[['Checkup', 'Exercise', 'Heart_Disease',\n",
    "       'Skin_Cancer', 'Other_Cancer', 'Depression', 'Diabetes', 'Arthritis',\n",
    "       'Sex', 'Age_Category', 'Height_(cm)', 'Weight_(kg)', 'BMI',\n",
    "       'Smoking_History', 'Alcohol_Consumption', 'Fruit_Consumption',\n",
    "       'Green_Vegetables_Consumption', 'FriedPotato_Consumption']]\n",
    "\n",
    "X = pd.get_dummies(X)\n",
    "test_2 = pd.get_dummies(test_2)\n",
    "test_2 = test_2[X.columns]\n",
    "\n",
    "from sklearn.ensemble import RandomForestClassifier\n",
    "from sklearn.model_selection import train_test_split\n",
    "\n",
    "X_train, X_validation, y_train, y_validation = train_test_split(X, y, test_size=0.2, random_state=12)\n",
    "model = RandomForestClassifier(random_state=12)\n",
    "model.fit(X_train, y_train)\n",
    "\n",
    "from sklearn.metrics import f1_score, accuracy_score\n",
    "print(accuracy_score(y_validation, model.predict(X_validation)))\n",
    "print(f1_score(y_validation, model.predict(X_validation), average='macro'))\n",
    "\n",
    "\n",
    "pd.DataFrame({'ID' : test['ID'], 'General_Health' : model.predict(test_2)})"
   ]
  },
  {
   "cell_type": "code",
   "execution_count": 219,
   "id": "e07d919b",
   "metadata": {},
   "outputs": [
    {
     "data": {
      "text/html": [
       "<div>\n",
       "<style scoped>\n",
       "    .dataframe tbody tr th:only-of-type {\n",
       "        vertical-align: middle;\n",
       "    }\n",
       "\n",
       "    .dataframe tbody tr th {\n",
       "        vertical-align: top;\n",
       "    }\n",
       "\n",
       "    .dataframe thead th {\n",
       "        text-align: right;\n",
       "    }\n",
       "</style>\n",
       "<table border=\"1\" class=\"dataframe\">\n",
       "  <thead>\n",
       "    <tr style=\"text-align: right;\">\n",
       "      <th></th>\n",
       "      <th>smoke</th>\n",
       "      <th>n_smoke</th>\n",
       "    </tr>\n",
       "  </thead>\n",
       "  <tbody>\n",
       "    <tr>\n",
       "      <th>M</th>\n",
       "      <td>120.0</td>\n",
       "      <td>480.0</td>\n",
       "    </tr>\n",
       "    <tr>\n",
       "      <th>W</th>\n",
       "      <td>143.0</td>\n",
       "      <td>407.0</td>\n",
       "    </tr>\n",
       "  </tbody>\n",
       "</table>\n",
       "</div>"
      ],
      "text/plain": [
       "   smoke  n_smoke\n",
       "M  120.0    480.0\n",
       "W  143.0    407.0"
      ]
     },
     "metadata": {},
     "output_type": "display_data"
    }
   ],
   "source": [
    "# A 도시의 남성 600명과 여성 550명이 있다. 남성들 중 흡연자 비율은 0.2이며 여성들 중 흡연자 비율은 0.26이다.\n",
    "# 남성과 여성 간에 흡연 여부에 따른 인구 비율이 다른지 확인하고 싶다. 유의 수준 0.05하 귀무가설에 대해 기각 / 채택 여부와 p-value값을 각각 출력하라\n",
    "\n",
    "df = pd.DataFrame({'smoke' : [600*0.2, 550*0.26], 'n_smoke' : [600-(600*0.2), 550-(550*0.26)]}, index=['M', 'W'])\n",
    "\n",
    "from scipy.stats import chi2_contingency\n",
    "chi2_contingency(df)\n",
    "display(df)"
   ]
  },
  {
   "cell_type": "code",
   "execution_count": 231,
   "id": "e4161221",
   "metadata": {
    "scrolled": false
   },
   "outputs": [
    {
     "name": "stdout",
     "output_type": "stream",
     "text": [
      "                            OLS Regression Results                            \n",
      "==============================================================================\n",
      "Dep. Variable:                 weight   R-squared:                       0.044\n",
      "Model:                            OLS   Adj. R-squared:                  0.038\n",
      "Method:                 Least Squares   F-statistic:                     7.574\n",
      "Date:                Fri, 01 Dec 2023   Prob (F-statistic):           0.000608\n",
      "Time:                        17:50:01   Log-Likelihood:                -1374.9\n",
      "No. Observations:                 333   AIC:                             2756.\n",
      "Df Residuals:                     330   BIC:                             2767.\n",
      "Df Model:                           2                                         \n",
      "Covariance Type:            nonrobust                                         \n",
      "===============================================================================\n",
      "                  coef    std err          t      P>|t|      [0.025      0.975]\n",
      "-------------------------------------------------------------------------------\n",
      "const          74.8953      4.455     16.813      0.000      66.132      83.658\n",
      "age            -0.0361      0.059     -0.611      0.542      -0.152       0.080\n",
      "Cholesterol     0.0819      0.022      3.716      0.000       0.039       0.125\n",
      "==============================================================================\n",
      "Omnibus:                       15.848   Durbin-Watson:                   2.033\n",
      "Prob(Omnibus):                  0.000   Jarque-Bera (JB):               17.569\n",
      "Skew:                           0.471   Prob(JB):                     0.000153\n",
      "Kurtosis:                       3.617   Cond. No.                         701.\n",
      "==============================================================================\n",
      "\n",
      "Notes:\n",
      "[1] Standard Errors assume that the covariance matrix of the errors is correctly specified.\n"
     ]
    },
    {
     "data": {
      "text/plain": [
       "array([78.85771011])"
      ]
     },
     "execution_count": 231,
     "metadata": {},
     "output_type": "execute_result"
    }
   ],
   "source": [
    "# age와 Cholesterol을 가지고 weight를 예측하는 선형 회귀 모델을 만들려고한다. age의 회귀 계수를 구하여라\n",
    "\n",
    "import pandas as pd \n",
    "df= pd.read_csv('https://raw.githubusercontent.com/Datamanim/datarepo/main/adp/28/p7.csv')\n",
    "\n",
    "import statsmodels.api as sm\n",
    "X = sm.add_constant(df[['age', 'Cholesterol']])\n",
    "model = sm.OLS(df['weight'], X)\n",
    "result = model.fit()\n",
    "\n",
    "print(result.summary())\n",
    "result.predict([1, 55, 72.6])"
   ]
  },
  {
   "cell_type": "code",
   "execution_count": 216,
   "id": "3d0fd725",
   "metadata": {},
   "outputs": [
    {
     "data": {
      "text/plain": [
       "0.00023778081979582106"
      ]
     },
     "execution_count": 216,
     "metadata": {},
     "output_type": "execute_result"
    }
   ],
   "source": [
    "result.pvalues['Cholesterol']"
   ]
  },
  {
   "cell_type": "code",
   "execution_count": 221,
   "id": "e6e3c429",
   "metadata": {},
   "outputs": [
    {
     "data": {
      "text/plain": [
       "array([78.85771011])"
      ]
     },
     "execution_count": 221,
     "metadata": {},
     "output_type": "execute_result"
    }
   ],
   "source": [
    "result.predict([1, 55, 72.6])"
   ]
  },
  {
   "cell_type": "code",
   "execution_count": 242,
   "id": "d47bef36",
   "metadata": {},
   "outputs": [
    {
     "name": "stderr",
     "output_type": "stream",
     "text": [
      "C:\\Users\\USER\\AppData\\Local\\Temp\\ipykernel_30940\\2888797611.py:5: SettingWithCopyWarning: \n",
      "A value is trying to be set on a copy of a slice from a DataFrame.\n",
      "Try using .loc[row_indexer,col_indexer] = value instead\n",
      "\n",
      "See the caveats in the documentation: https://pandas.pydata.org/pandas-docs/stable/user_guide/indexing.html#returning-a-view-versus-a-copy\n",
      "  df1['차이가격'] = df1['20L가격'] - df1['5L가격']\n"
     ]
    },
    {
     "data": {
      "text/plain": [
       "619.0"
      ]
     },
     "execution_count": 242,
     "metadata": {},
     "output_type": "execute_result"
    }
   ],
   "source": [
    "import pandas as pd\n",
    "df = pd.read_csv('https://raw.githubusercontent.com/Datamanim/datarepo/main/krdatacertificate/e5_p1_1_.csv')\n",
    "\n",
    "df1 = df[(df['20L가격'] != 0) & (df['5L가격'] != 0)]\n",
    "df1['차이가격'] = df1['20L가격'] - df1['5L가격']\n",
    "a = df1.groupby('시도명').mean()['차이가격'].max()\n",
    "round(a, 1)"
   ]
  },
  {
   "cell_type": "code",
   "execution_count": 248,
   "id": "890b5052",
   "metadata": {},
   "outputs": [
    {
     "data": {
      "text/plain": [
       "8998"
      ]
     },
     "execution_count": 248,
     "metadata": {},
     "output_type": "execute_result"
    }
   ],
   "source": [
    "import pandas as pd\n",
    "df = pd.read_csv('https://raw.githubusercontent.com/Datamanim/datarepo/main/krdatacertificate/e5_p1_2_.csv')\n",
    "\n",
    "df['BMI'] = df['weight(kg)'] / (df['height(cm)']/100)**2\n",
    "len(df[(df['BMI'] >= 25) | (df['BMI'] < 18.5)])\n"
   ]
  },
  {
   "cell_type": "code",
   "execution_count": 270,
   "id": "91a49297",
   "metadata": {},
   "outputs": [
    {
     "data": {
      "text/plain": [
       "지역            중랑구중랑구중랑구중랑구중랑구중랑구중랑구중랑구중랑구중랑구\n",
       "초등학교_전출_도내                             11879\n",
       "초등학교_전출_도외                              9142\n",
       "초등학교_전입_도내                             16810\n",
       "초등학교_전입_도외                              7943\n",
       "중학교_전출_도내                               2981\n",
       "중학교_전출_도외                               2934\n",
       "중학교_전입_도내                               3532\n",
       "중학교_전입_도외                               3021\n",
       "고등학교_전출_도내                              2923\n",
       "고등학교_전출_도외                              1511\n",
       "고등학교_전입_도내                              2854\n",
       "고등학교_전입_도외                              1551\n",
       "순유입인원                                  13853\n",
       "dtype: object"
      ]
     },
     "execution_count": 270,
     "metadata": {},
     "output_type": "execute_result"
    }
   ],
   "source": [
    "import pandas as pd\n",
    "df = pd.read_csv('https://raw.githubusercontent.com/Datamanim/datarepo/main/krdatacertificate/e5_p1_3.csv')\n",
    "\n",
    "out_list = []\n",
    "in_list = []\n",
    "for col in df.columns:\n",
    "    if '전출' in col:\n",
    "        out_list.append(col)\n",
    "    elif '전입' in col:\n",
    "        in_list.append(col)\n",
    "        \n",
    "df['순유입인원'] = df[in_list].sum(axis=1) - df[out_list].sum(axis=1)\n",
    "df.groupby(['년도']).max().sum(axis=0)"
   ]
  },
  {
   "cell_type": "code",
   "execution_count": 287,
   "id": "19e629e3",
   "metadata": {
    "scrolled": false
   },
   "outputs": [
    {
     "name": "stderr",
     "output_type": "stream",
     "text": [
      "C:\\Users\\USER\\AppData\\Local\\Temp\\ipykernel_30940\\2977772141.py:20: DataConversionWarning: A column-vector y was passed when a 1d array was expected. Please change the shape of y to (n_samples,), for example using ravel().\n",
      "  model.fit(X_train, y_train)\n"
     ]
    },
    {
     "name": "stdout",
     "output_type": "stream",
     "text": [
      "992.2948605553482\n",
      "2884.1763017914036\n"
     ]
    },
    {
     "data": {
      "text/html": [
       "<div>\n",
       "<style scoped>\n",
       "    .dataframe tbody tr th:only-of-type {\n",
       "        vertical-align: middle;\n",
       "    }\n",
       "\n",
       "    .dataframe tbody tr th {\n",
       "        vertical-align: top;\n",
       "    }\n",
       "\n",
       "    .dataframe thead th {\n",
       "        text-align: right;\n",
       "    }\n",
       "</style>\n",
       "<table border=\"1\" class=\"dataframe\">\n",
       "  <thead>\n",
       "    <tr style=\"text-align: right;\">\n",
       "      <th></th>\n",
       "      <th>ID</th>\n",
       "      <th>price</th>\n",
       "    </tr>\n",
       "  </thead>\n",
       "  <tbody>\n",
       "    <tr>\n",
       "      <th>0</th>\n",
       "      <td>0</td>\n",
       "      <td>4238.20</td>\n",
       "    </tr>\n",
       "    <tr>\n",
       "      <th>1</th>\n",
       "      <td>2</td>\n",
       "      <td>57772.81</td>\n",
       "    </tr>\n",
       "    <tr>\n",
       "      <th>2</th>\n",
       "      <td>14</td>\n",
       "      <td>17546.06</td>\n",
       "    </tr>\n",
       "    <tr>\n",
       "      <th>3</th>\n",
       "      <td>15</td>\n",
       "      <td>14945.11</td>\n",
       "    </tr>\n",
       "    <tr>\n",
       "      <th>4</th>\n",
       "      <td>18</td>\n",
       "      <td>16966.52</td>\n",
       "    </tr>\n",
       "    <tr>\n",
       "      <th>...</th>\n",
       "      <td>...</td>\n",
       "      <td>...</td>\n",
       "    </tr>\n",
       "    <tr>\n",
       "      <th>3291</th>\n",
       "      <td>13096</td>\n",
       "      <td>28633.10</td>\n",
       "    </tr>\n",
       "    <tr>\n",
       "      <th>3292</th>\n",
       "      <td>13098</td>\n",
       "      <td>24922.05</td>\n",
       "    </tr>\n",
       "    <tr>\n",
       "      <th>3293</th>\n",
       "      <td>13101</td>\n",
       "      <td>23858.61</td>\n",
       "    </tr>\n",
       "    <tr>\n",
       "      <th>3294</th>\n",
       "      <td>13109</td>\n",
       "      <td>16921.06</td>\n",
       "    </tr>\n",
       "    <tr>\n",
       "      <th>3295</th>\n",
       "      <td>13112</td>\n",
       "      <td>29678.50</td>\n",
       "    </tr>\n",
       "  </tbody>\n",
       "</table>\n",
       "<p>3296 rows × 2 columns</p>\n",
       "</div>"
      ],
      "text/plain": [
       "         ID     price\n",
       "0         0   4238.20\n",
       "1         2  57772.81\n",
       "2        14  17546.06\n",
       "3        15  14945.11\n",
       "4        18  16966.52\n",
       "...     ...       ...\n",
       "3291  13096  28633.10\n",
       "3292  13098  24922.05\n",
       "3293  13101  23858.61\n",
       "3294  13109  16921.06\n",
       "3295  13112  29678.50\n",
       "\n",
       "[3296 rows x 2 columns]"
      ]
     },
     "execution_count": 287,
     "metadata": {},
     "output_type": "execute_result"
    }
   ],
   "source": [
    "import pandas as pd\n",
    "train = pd.read_csv('https://raw.githubusercontent.com/Datamanim/datarepo/main/krdatacertificate/e5_p2_train_.csv')\n",
    "test = pd.read_csv('https://raw.githubusercontent.com/Datamanim/datarepo/main/krdatacertificate/e5_p2_test_.csv')\n",
    "\n",
    "X = train.drop(columns=['ID', 'price'])\n",
    "y = train[['price']]\n",
    "test_2 = test.drop(columns=['ID'])\n",
    "\n",
    "X = pd.get_dummies(X)\n",
    "test_2 = pd.get_dummies(test_2)\n",
    "test_2[['model_ CLC Class', 'model_ R Class', 'model_180', 'model_200', 'model_230', 'transmission_Other', 'fuelType_Other']] = 0\n",
    "test_2 = test_2[X.columns]\n",
    "\n",
    "\n",
    "from sklearn.ensemble import RandomForestRegressor\n",
    "from sklearn.model_selection import train_test_split\n",
    "\n",
    "X_train, X_validation, y_train, y_validation = train_test_split(X, y, test_size=0.3, random_state=123)\n",
    "model = RandomForestRegressor()\n",
    "model.fit(X_train, y_train)\n",
    "\n",
    "from sklearn.metrics import mean_squared_error\n",
    "import numpy as np\n",
    "print(np.sqrt(mean_squared_error(y_train, model.predict(X_train))))\n",
    "print(np.sqrt(mean_squared_error(y_validation, model.predict(X_validation))))\n",
    "\n",
    "pd.DataFrame({'ID' : test['ID'], 'price' : model.predict(test_2)})"
   ]
  },
  {
   "cell_type": "code",
   "execution_count": 289,
   "id": "c6608b86",
   "metadata": {},
   "outputs": [
    {
     "name": "stderr",
     "output_type": "stream",
     "text": [
      "C:\\Users\\USER\\AppData\\Local\\Temp\\ipykernel_30940\\243926458.py:3: FutureWarning: Dropping of nuisance columns in DataFrame reductions (with 'numeric_only=None') is deprecated; in a future version this will raise TypeError.  Select only valid columns before calling the reduction.\n",
      "  df.mean()\n"
     ]
    },
    {
     "data": {
      "text/plain": [
       "height    169.937273\n",
       "dtype: float64"
      ]
     },
     "execution_count": 289,
     "metadata": {},
     "output_type": "execute_result"
    }
   ],
   "source": [
    "import pandas as pd \n",
    "df= pd.read_csv('https://raw.githubusercontent.com/Datamanim/datarepo/main/krdatacertificate/e5_p3_1.csv')\n",
    "df.mean()"
   ]
  },
  {
   "cell_type": "code",
   "execution_count": 303,
   "id": "13a4eb15",
   "metadata": {},
   "outputs": [
    {
     "name": "stderr",
     "output_type": "stream",
     "text": [
      "C:\\Users\\USER\\AppData\\Local\\Temp\\ipykernel_30940\\951859961.py:4: FutureWarning: The default value of regex will change from True to False in a future version. In addition, single character regular expressions will *not* be treated as literal strings when regex=True.\n",
      "  df['Temperature'] = df['Temperature'].str.replace('*', '').astype('float')\n"
     ]
    },
    {
     "data": {
      "text/plain": [
       "27.48"
      ]
     },
     "execution_count": 303,
     "metadata": {},
     "output_type": "execute_result"
    }
   ],
   "source": [
    "import pandas as pd\n",
    "df = pd.read_csv('https://raw.githubusercontent.com/Datamanim/datarepo/main/krdatacertificate/e4_p1_1.csv')\n",
    "\n",
    "df['Temperature'] = df['Temperature'].str.replace('*', '').astype('float')\n",
    "round(df['Temperature'].quantile(0.75) - df['Temperature'].quantile(0.25), 2)"
   ]
  },
  {
   "cell_type": "code",
   "execution_count": 308,
   "id": "15283aa1",
   "metadata": {},
   "outputs": [
    {
     "data": {
      "text/plain": [
       "1789084.0"
      ]
     },
     "execution_count": 308,
     "metadata": {},
     "output_type": "execute_result"
    }
   ],
   "source": [
    "import pandas as pd\n",
    "df = pd.read_csv('https://raw.githubusercontent.com/Datamanim/datarepo/main/krdatacertificate/e4_p1_2.csv')\n",
    "\n",
    "# print(df.info())\n",
    "\n",
    "round(df[((df['Likes']/ df['Comments']) >= 20) & (df['Keyword'] == 'minecraft')]['Views'].mean(), 0)"
   ]
  },
  {
   "cell_type": "code",
   "execution_count": 313,
   "id": "c0dc4757",
   "metadata": {},
   "outputs": [
    {
     "data": {
      "text/plain": [
       "(5.646488667066097,\n",
       " 0.3421500573497989,\n",
       " 5,\n",
       " array([[159.55772994, 161.44227006],\n",
       "        [ 84.50097847,  85.49902153],\n",
       "        [121.28375734, 122.71624266],\n",
       "        [ 49.20939335,  49.79060665],\n",
       "        [ 29.32681018,  29.67318982],\n",
       "        [ 64.12133072,  64.87866928]]))"
      ]
     },
     "execution_count": 313,
     "metadata": {},
     "output_type": "execute_result"
    }
   ],
   "source": [
    "import pandas as pd \n",
    "df= pd.read_csv('https://raw.githubusercontent.com/Datamanim/datarepo/main/krdatacertificate/e4_p3_1_.csv')\n",
    "cdf = pd.crosstab(df['학과'], df['성별'])\n",
    "\n",
    "# import scipy.stats\n",
    "# dir(scipy.stats)\n",
    "from scipy.stats import chi2_contingency\n",
    "chi2_contingency(cdf)"
   ]
  },
  {
   "cell_type": "code",
   "execution_count": 317,
   "id": "6c8a0106",
   "metadata": {},
   "outputs": [
    {
     "data": {
      "text/plain": [
       "1.9999999999999996"
      ]
     },
     "execution_count": 317,
     "metadata": {},
     "output_type": "execute_result"
    }
   ],
   "source": [
    "n = 100\n",
    "p_hat = 0.6\n",
    "p = 0.5\n",
    "alpha = 0.05\n",
    "\n",
    "(p_hat-p) / np.sqrt((p*(1-p))/n)"
   ]
  },
  {
   "cell_type": "code",
   "execution_count": 331,
   "id": "15a3b3b4",
   "metadata": {},
   "outputs": [
    {
     "name": "stdout",
     "output_type": "stream",
     "text": [
      "총 시간(초): 185415.0\n"
     ]
    }
   ],
   "source": [
    "from datetime import timedelta\n",
    "\n",
    "# timedelta 객체 생성 (2일, 3시간, 30분, 15초)\n",
    "delta = timedelta(days=2, hours=3, minutes=30, seconds=15)\n",
    "\n",
    "# total_seconds 메서드를 사용하여 총 시간을 초로 변환\n",
    "total_seconds = delta.total_seconds()\n",
    "\n",
    "print(\"총 시간(초):\", total_seconds)"
   ]
  },
  {
   "cell_type": "code",
   "execution_count": null,
   "id": "c06d0109",
   "metadata": {},
   "outputs": [],
   "source": []
  }
 ],
 "metadata": {
  "kernelspec": {
   "display_name": "Python 3 (ipykernel)",
   "language": "python",
   "name": "python3"
  },
  "language_info": {
   "codemirror_mode": {
    "name": "ipython",
    "version": 3
   },
   "file_extension": ".py",
   "mimetype": "text/x-python",
   "name": "python",
   "nbconvert_exporter": "python",
   "pygments_lexer": "ipython3",
   "version": "3.9.13"
  }
 },
 "nbformat": 4,
 "nbformat_minor": 5
}
