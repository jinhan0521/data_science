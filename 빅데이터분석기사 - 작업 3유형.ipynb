{
 "cells": [
  {
   "cell_type": "markdown",
   "id": "bea55789",
   "metadata": {},
   "source": [
    "## 사이파이"
   ]
  },
  {
   "cell_type": "markdown",
   "id": "1717b2d4",
   "metadata": {},
   "source": [
    "p-value가 0.05 이하 -> 귀무가설 기각, 대립가설 채택"
   ]
  },
  {
   "cell_type": "code",
   "execution_count": 6,
   "id": "0531a89d",
   "metadata": {},
   "outputs": [
    {
     "data": {
      "text/plain": [
       "['ConstantInputWarning',\n",
       " 'DegenerateDataWarning',\n",
       " 'FitError',\n",
       " 'NearConstantInputWarning',\n",
       " 'NumericalInverseHermite',\n",
       " '__all__',\n",
       " '__builtins__',\n",
       " '__cached__',\n",
       " '__doc__',\n",
       " '__file__',\n",
       " '__loader__',\n",
       " '__name__',\n",
       " '__package__',\n",
       " '__path__',\n",
       " '__spec__',\n",
       " '_axis_nan_policy',\n",
       " '_biasedurn',\n",
       " '_binned_statistic',\n",
       " '_binomtest',\n",
       " '_boost',\n",
       " '_common',\n",
       " '_constants',\n",
       " '_continuous_distns',\n",
       " '_crosstab',\n",
       " '_discrete_distns',\n",
       " '_distn_infrastructure',\n",
       " '_distr_params',\n",
       " '_entropy',\n",
       " '_fit',\n",
       " '_hypotests',\n",
       " '_hypotests_pythran',\n",
       " '_kde',\n",
       " '_ksstats',\n",
       " '_levy_stable',\n",
       " '_mannwhitneyu',\n",
       " '_morestats',\n",
       " '_mstats_basic',\n",
       " '_mstats_extras',\n",
       " '_multivariate',\n",
       " '_mvn',\n",
       " '_page_trend_test',\n",
       " '_qmc',\n",
       " '_qmc_cy',\n",
       " '_relative_risk',\n",
       " '_resampling',\n",
       " '_rvs_sampling',\n",
       " '_sobol',\n",
       " '_statlib',\n",
       " '_stats',\n",
       " '_stats_mstats_common',\n",
       " '_stats_py',\n",
       " '_tukeylambda_stats',\n",
       " '_unuran',\n",
       " '_variation',\n",
       " '_warnings_errors',\n",
       " 'alexandergovern',\n",
       " 'alpha',\n",
       " 'anderson',\n",
       " 'anderson_ksamp',\n",
       " 'anglit',\n",
       " 'ansari',\n",
       " 'arcsine',\n",
       " 'argus',\n",
       " 'barnard_exact',\n",
       " 'bartlett',\n",
       " 'bayes_mvs',\n",
       " 'bernoulli',\n",
       " 'beta',\n",
       " 'betabinom',\n",
       " 'betaprime',\n",
       " 'biasedurn',\n",
       " 'binned_statistic',\n",
       " 'binned_statistic_2d',\n",
       " 'binned_statistic_dd',\n",
       " 'binom',\n",
       " 'binom_test',\n",
       " 'binomtest',\n",
       " 'boltzmann',\n",
       " 'bootstrap',\n",
       " 'boschloo_exact',\n",
       " 'boxcox',\n",
       " 'boxcox_llf',\n",
       " 'boxcox_normmax',\n",
       " 'boxcox_normplot',\n",
       " 'bradford',\n",
       " 'brunnermunzel',\n",
       " 'burr',\n",
       " 'burr12',\n",
       " 'cauchy',\n",
       " 'chi',\n",
       " 'chi2',\n",
       " 'chi2_contingency',\n",
       " 'chisquare',\n",
       " 'circmean',\n",
       " 'circstd',\n",
       " 'circvar',\n",
       " 'combine_pvalues',\n",
       " 'contingency',\n",
       " 'cosine',\n",
       " 'cramervonmises',\n",
       " 'cramervonmises_2samp',\n",
       " 'crystalball',\n",
       " 'cumfreq',\n",
       " 'describe',\n",
       " 'dgamma',\n",
       " 'differential_entropy',\n",
       " 'dirichlet',\n",
       " 'distributions',\n",
       " 'dlaplace',\n",
       " 'dweibull',\n",
       " 'energy_distance',\n",
       " 'entropy',\n",
       " 'epps_singleton_2samp',\n",
       " 'erlang',\n",
       " 'expon',\n",
       " 'exponnorm',\n",
       " 'exponpow',\n",
       " 'exponweib',\n",
       " 'f',\n",
       " 'f_oneway',\n",
       " 'fatiguelife',\n",
       " 'find_repeats',\n",
       " 'fisher_exact',\n",
       " 'fisk',\n",
       " 'fit',\n",
       " 'fligner',\n",
       " 'foldcauchy',\n",
       " 'foldnorm',\n",
       " 'friedmanchisquare',\n",
       " 'gamma',\n",
       " 'gausshyper',\n",
       " 'gaussian_kde',\n",
       " 'genexpon',\n",
       " 'genextreme',\n",
       " 'gengamma',\n",
       " 'genhalflogistic',\n",
       " 'genhyperbolic',\n",
       " 'geninvgauss',\n",
       " 'genlogistic',\n",
       " 'gennorm',\n",
       " 'genpareto',\n",
       " 'geom',\n",
       " 'gibrat',\n",
       " 'gilbrat',\n",
       " 'gmean',\n",
       " 'gompertz',\n",
       " 'gstd',\n",
       " 'gumbel_l',\n",
       " 'gumbel_r',\n",
       " 'gzscore',\n",
       " 'halfcauchy',\n",
       " 'halfgennorm',\n",
       " 'halflogistic',\n",
       " 'halfnorm',\n",
       " 'hmean',\n",
       " 'hypergeom',\n",
       " 'hypsecant',\n",
       " 'invgamma',\n",
       " 'invgauss',\n",
       " 'invweibull',\n",
       " 'invwishart',\n",
       " 'iqr',\n",
       " 'jarque_bera',\n",
       " 'johnsonsb',\n",
       " 'johnsonsu',\n",
       " 'kappa3',\n",
       " 'kappa4',\n",
       " 'kde',\n",
       " 'kendalltau',\n",
       " 'kruskal',\n",
       " 'ks_1samp',\n",
       " 'ks_2samp',\n",
       " 'ksone',\n",
       " 'kstat',\n",
       " 'kstatvar',\n",
       " 'kstest',\n",
       " 'kstwo',\n",
       " 'kstwobign',\n",
       " 'kurtosis',\n",
       " 'kurtosistest',\n",
       " 'laplace',\n",
       " 'laplace_asymmetric',\n",
       " 'levene',\n",
       " 'levy',\n",
       " 'levy_l',\n",
       " 'levy_stable',\n",
       " 'linregress',\n",
       " 'loggamma',\n",
       " 'logistic',\n",
       " 'loglaplace',\n",
       " 'lognorm',\n",
       " 'logser',\n",
       " 'loguniform',\n",
       " 'lomax',\n",
       " 'mannwhitneyu',\n",
       " 'matrix_normal',\n",
       " 'maxwell',\n",
       " 'median_abs_deviation',\n",
       " 'median_test',\n",
       " 'mielke',\n",
       " 'mode',\n",
       " 'moment',\n",
       " 'monte_carlo_test',\n",
       " 'mood',\n",
       " 'morestats',\n",
       " 'moyal',\n",
       " 'mstats',\n",
       " 'mstats_basic',\n",
       " 'mstats_extras',\n",
       " 'multinomial',\n",
       " 'multiscale_graphcorr',\n",
       " 'multivariate_hypergeom',\n",
       " 'multivariate_normal',\n",
       " 'multivariate_t',\n",
       " 'mvn',\n",
       " 'mvsdist',\n",
       " 'nakagami',\n",
       " 'nbinom',\n",
       " 'ncf',\n",
       " 'nchypergeom_fisher',\n",
       " 'nchypergeom_wallenius',\n",
       " 'nct',\n",
       " 'ncx2',\n",
       " 'nhypergeom',\n",
       " 'norm',\n",
       " 'normaltest',\n",
       " 'norminvgauss',\n",
       " 'obrientransform',\n",
       " 'ortho_group',\n",
       " 'page_trend_test',\n",
       " 'pareto',\n",
       " 'pearson3',\n",
       " 'pearsonr',\n",
       " 'percentileofscore',\n",
       " 'permutation_test',\n",
       " 'planck',\n",
       " 'pmean',\n",
       " 'pointbiserialr',\n",
       " 'poisson',\n",
       " 'power_divergence',\n",
       " 'powerlaw',\n",
       " 'powerlognorm',\n",
       " 'powernorm',\n",
       " 'ppcc_max',\n",
       " 'ppcc_plot',\n",
       " 'probplot',\n",
       " 'qmc',\n",
       " 'randint',\n",
       " 'random_correlation',\n",
       " 'rankdata',\n",
       " 'ranksums',\n",
       " 'rayleigh',\n",
       " 'rdist',\n",
       " 'recipinvgauss',\n",
       " 'reciprocal',\n",
       " 'relfreq',\n",
       " 'rice',\n",
       " 'rv_continuous',\n",
       " 'rv_discrete',\n",
       " 'rv_histogram',\n",
       " 'rvs_ratio_uniforms',\n",
       " 'scoreatpercentile',\n",
       " 'sem',\n",
       " 'semicircular',\n",
       " 'shapiro',\n",
       " 'siegelslopes',\n",
       " 'sigmaclip',\n",
       " 'skellam',\n",
       " 'skew',\n",
       " 'skewcauchy',\n",
       " 'skewnorm',\n",
       " 'skewtest',\n",
       " 'somersd',\n",
       " 'spearmanr',\n",
       " 'special_ortho_group',\n",
       " 'statlib',\n",
       " 'stats',\n",
       " 'studentized_range',\n",
       " 't',\n",
       " 'test',\n",
       " 'theilslopes',\n",
       " 'tiecorrect',\n",
       " 'tmax',\n",
       " 'tmean',\n",
       " 'tmin',\n",
       " 'trapezoid',\n",
       " 'trapz',\n",
       " 'triang',\n",
       " 'trim1',\n",
       " 'trim_mean',\n",
       " 'trimboth',\n",
       " 'truncexpon',\n",
       " 'truncnorm',\n",
       " 'truncweibull_min',\n",
       " 'tsem',\n",
       " 'tstd',\n",
       " 'ttest_1samp',\n",
       " 'ttest_ind',\n",
       " 'ttest_ind_from_stats',\n",
       " 'ttest_rel',\n",
       " 'tukey_hsd',\n",
       " 'tukeylambda',\n",
       " 'tvar',\n",
       " 'uniform',\n",
       " 'unitary_group',\n",
       " 'variation',\n",
       " 'vonmises',\n",
       " 'vonmises_line',\n",
       " 'wald',\n",
       " 'wasserstein_distance',\n",
       " 'weibull_max',\n",
       " 'weibull_min',\n",
       " 'weightedtau',\n",
       " 'wilcoxon',\n",
       " 'wishart',\n",
       " 'wrapcauchy',\n",
       " 'yeojohnson',\n",
       " 'yeojohnson_llf',\n",
       " 'yeojohnson_normmax',\n",
       " 'yeojohnson_normplot',\n",
       " 'yulesimon',\n",
       " 'zipf',\n",
       " 'zipfian',\n",
       " 'zmap',\n",
       " 'zscore']"
      ]
     },
     "execution_count": 6,
     "metadata": {},
     "output_type": "execute_result"
    }
   ],
   "source": [
    "from scipy import stats\n",
    "dir(stats)"
   ]
  },
  {
   "cell_type": "markdown",
   "id": "ba09e179",
   "metadata": {},
   "source": [
    "## 정규성 검정"
   ]
  },
  {
   "cell_type": "code",
   "execution_count": 96,
   "id": "83edd87e",
   "metadata": {
    "scrolled": false
   },
   "outputs": [
    {
     "data": {
      "text/html": [
       "<div>\n",
       "<style scoped>\n",
       "    .dataframe tbody tr th:only-of-type {\n",
       "        vertical-align: middle;\n",
       "    }\n",
       "\n",
       "    .dataframe tbody tr th {\n",
       "        vertical-align: top;\n",
       "    }\n",
       "\n",
       "    .dataframe thead th {\n",
       "        text-align: right;\n",
       "    }\n",
       "</style>\n",
       "<table border=\"1\" class=\"dataframe\">\n",
       "  <thead>\n",
       "    <tr style=\"text-align: right;\">\n",
       "      <th></th>\n",
       "      <th>data</th>\n",
       "    </tr>\n",
       "  </thead>\n",
       "  <tbody>\n",
       "    <tr>\n",
       "      <th>0</th>\n",
       "      <td>295.979767</td>\n",
       "    </tr>\n",
       "    <tr>\n",
       "      <th>1</th>\n",
       "      <td>289.703739</td>\n",
       "    </tr>\n",
       "    <tr>\n",
       "      <th>2</th>\n",
       "      <td>300.609670</td>\n",
       "    </tr>\n",
       "    <tr>\n",
       "      <th>3</th>\n",
       "      <td>299.890856</td>\n",
       "    </tr>\n",
       "    <tr>\n",
       "      <th>4</th>\n",
       "      <td>293.159612</td>\n",
       "    </tr>\n",
       "    <tr>\n",
       "      <th>...</th>\n",
       "      <td>...</td>\n",
       "    </tr>\n",
       "    <tr>\n",
       "      <th>995</th>\n",
       "      <td>299.901120</td>\n",
       "    </tr>\n",
       "    <tr>\n",
       "      <th>996</th>\n",
       "      <td>307.387808</td>\n",
       "    </tr>\n",
       "    <tr>\n",
       "      <th>997</th>\n",
       "      <td>303.869390</td>\n",
       "    </tr>\n",
       "    <tr>\n",
       "      <th>998</th>\n",
       "      <td>313.979589</td>\n",
       "    </tr>\n",
       "    <tr>\n",
       "      <th>999</th>\n",
       "      <td>306.950007</td>\n",
       "    </tr>\n",
       "  </tbody>\n",
       "</table>\n",
       "<p>1000 rows × 1 columns</p>\n",
       "</div>"
      ],
      "text/plain": [
       "           data\n",
       "0    295.979767\n",
       "1    289.703739\n",
       "2    300.609670\n",
       "3    299.890856\n",
       "4    293.159612\n",
       "..          ...\n",
       "995  299.901120\n",
       "996  307.387808\n",
       "997  303.869390\n",
       "998  313.979589\n",
       "999  306.950007\n",
       "\n",
       "[1000 rows x 1 columns]"
      ]
     },
     "metadata": {},
     "output_type": "display_data"
    },
    {
     "name": "stdout",
     "output_type": "stream",
     "text": [
      "ShapiroResult(statistic=0.9981444478034973, pvalue=0.34849318861961365)\n"
     ]
    }
   ],
   "source": [
    "import pandas as pd\n",
    "import matplotlib.pyplot as plt\n",
    "df = pd.read_csv('https://raw.githubusercontent.com/Datamanim/datarepo/main/scipy/normal1.csv')\n",
    "\n",
    "display(df)\n",
    "from scipy.stats import shapiro\n",
    "print(shapiro(df))\n",
    "\n",
    "#p-value>0.05 -> 귀무가설 채택\n",
    "#귀무가설 : 정규성을 가진다"
   ]
  },
  {
   "cell_type": "code",
   "execution_count": 13,
   "id": "ea11a192",
   "metadata": {},
   "outputs": [
    {
     "data": {
      "image/png": "[encoded data removed]",
      "text/plain": [
       "<Figure size 640x480 with 1 Axes>"
      ]
     },
     "metadata": {},
     "output_type": "display_data"
    },
    {
     "name": "stdout",
     "output_type": "stream",
     "text": [
      "ShapiroResult(statistic=0.9578885436058044, pvalue=2.309641794969743e-16)\n"
     ]
    }
   ],
   "source": [
    "df = pd.read_csv('https://raw.githubusercontent.com/Datamanim/datarepo/main/scipy/normal3.csv')\n",
    "plt.hist(df)\n",
    "plt.show()\n",
    "\n",
    "print(shapiro(df))\n",
    "\n",
    "#p-value<0.05 이므로 귀무가설 기각, 대립가설 채택\n",
    "# 대립가설 : 정규성을 가지지 않는다"
   ]
  },
  {
   "cell_type": "code",
   "execution_count": 21,
   "id": "7e034cac",
   "metadata": {},
   "outputs": [
    {
     "name": "stdout",
     "output_type": "stream",
     "text": [
      "ShapiroResult(statistic=0.9976889491081238, pvalue=0.17540602385997772)\n"
     ]
    }
   ],
   "source": [
    "#다음 데이터를 log변환 한 후에 정규성을 가지는지 확인하라\n",
    "import numpy as np\n",
    "import matplotlib.pyplot as plt\n",
    "import pandas as pd\n",
    "df = pd.read_csv('https://raw.githubusercontent.com/Datamanim/datarepo/main/scipy/normal3.csv')\n",
    "\n",
    "np.log1p(df)\n",
    "\n",
    "#log1p 는 1더한 값의 로그\n",
    "#log10은 10을 밑으로 하는 로그\n",
    "#log는 자연로그\n",
    "\n",
    "from scipy.stats import shapiro\n",
    "print(shapiro(np.log1p(df)))\n",
    "\n",
    "#p-value > 0.05 이므로 귀무가설 기각X\n",
    "#귀무가설 : 정규성을 가진다"
   ]
  },
  {
   "cell_type": "markdown",
   "id": "61d0cafc",
   "metadata": {},
   "source": [
    "#### anderson"
   ]
  },
  {
   "cell_type": "code",
   "execution_count": 100,
   "id": "e0762e1a",
   "metadata": {},
   "outputs": [
    {
     "name": "stdout",
     "output_type": "stream",
     "text": [
      "ShapiroResult(statistic=0.9995355606079102, pvalue=0.1507067084312439)\n"
     ]
    },
    {
     "name": "stderr",
     "output_type": "stream",
     "text": [
      "C:\\Users\\USER\\anaconda3\\lib\\site-packages\\scipy\\stats\\_morestats.py:1800: UserWarning: p-value may not be accurate for N > 5000.\n",
      "  warnings.warn(\"p-value may not be accurate for N > 5000.\")\n"
     ]
    },
    {
     "data": {
      "text/plain": [
       "0       296.016803\n",
       "1       299.628476\n",
       "2       298.232057\n",
       "3       293.256749\n",
       "4       301.037710\n",
       "           ...    \n",
       "5995    304.008424\n",
       "5996    301.043219\n",
       "5997    302.542420\n",
       "5998    294.456145\n",
       "5999    301.733819\n",
       "Name: data, Length: 6000, dtype: float64"
      ]
     },
     "metadata": {},
     "output_type": "display_data"
    },
    {
     "name": "stdout",
     "output_type": "stream",
     "text": [
      "AndersonResult(statistic=0.8266993530414766, critical_values=array([0.576, 0.656, 0.786, 0.917, 1.091]), significance_level=array([15. , 10. ,  5. ,  2.5,  1. ]))\n"
     ]
    }
   ],
   "source": [
    "#다음 데이터의 정규성을 검증\n",
    "df = pd.read_csv('https://raw.githubusercontent.com/Datamanim/datarepo/main/scipy/normal6.csv')\n",
    "\n",
    "from scipy.stats import shapiro\n",
    "print(shapiro(df))\n",
    "\n",
    "# p-value > 0.05 이므로 귀무가설 기각 X\n",
    "# 귀무가설 : 정규성을 가진다\n",
    "\n",
    "#경고가 뜬다\n",
    "# 5000개 초과의 샘플에 대해서는 샤피로검정은 정확하지 않을 수 있다\n",
    "\n",
    "from scipy.stats import anderson\n",
    "#anderson은 리스트형식으로 받는다\n",
    "display(df['data'])\n",
    "print(anderson(df['data'].values))\n",
    "\n",
    "#statistic은 검정통계량\n",
    "#critical_values은 임계값\n",
    "#significance_level은 유의수준\n",
    "#significance_level이 5인 값은 3번째 값\n",
    "#0.82 > 0.786 으로 검정통계량이 더 크므로 귀무가설 기각\n",
    "# 대립가설 : 정규성을 가지지 않는다"
   ]
  },
  {
   "cell_type": "markdown",
   "id": "07a57551",
   "metadata": {},
   "source": [
    "### 단일표본 t검정(one-sample)"
   ]
  },
  {
   "cell_type": "code",
   "execution_count": 39,
   "id": "1c44226e",
   "metadata": {},
   "outputs": [
    {
     "name": "stdout",
     "output_type": "stream",
     "text": [
      "ShapiroResult(statistic=0.9872668981552124, pvalue=0.4558176100254059)\n",
      "Ttest_1sampResult(statistic=3.2017884987150644, pvalue=0.0018367171548080209)\n"
     ]
    },
    {
     "data": {
      "text/plain": [
       "WilcoxonResult(statistic=1651.0, pvalue=0.002654951754186932)"
      ]
     },
     "execution_count": 39,
     "metadata": {},
     "output_type": "execute_result"
    }
   ],
   "source": [
    "#100명의 키 정보가 들어있는 데이터가 있다.\n",
    "#데이터가 정규성을 만족하는지 확인하라\n",
    "#평균키는 165라 판단할수 있는지 귀무가설과 대립가설을 설정한 후\n",
    "#유의수준 5%로 검정하라\n",
    "\n",
    "import pandas as pd \n",
    "df = pd.read_csv('https://raw.githubusercontent.com/Datamanim/datarepo/main/scipy/height1.csv')\n",
    "\n",
    "from scipy.stats import ttest_1samp\n",
    "from scipy.stats import shapiro\n",
    "from scipy.stats import wilcoxon\n",
    "\n",
    "#정규성 검정\n",
    "print(shapiro(df))\n",
    "#p-value>0.05\n",
    "\n",
    "#정규성 검정을 만족하기 때문에 단일표본 검정으로 확인\n",
    "print(ttest_1samp(df['height'],165))\n",
    "#p-value<0.05\n",
    "#귀무가설 기각\n",
    "#대립가설 : 평균키는 165가 아니다\n",
    "\n",
    "#만약, 정규성을 만족하지 않는다면 비모수 검정을 진행\n",
    "#윌콕슨 부호순위 검정\n",
    "print(wilcoxon(df['height']-165))\n",
    "#p-value<0.05\n",
    "#귀무가설 기각\n",
    "#대립가설 : 평균키는 165가 아니다"
   ]
  },
  {
   "cell_type": "code",
   "execution_count": 54,
   "id": "aaa45bf9",
   "metadata": {},
   "outputs": [
    {
     "name": "stdout",
     "output_type": "stream",
     "text": [
      "ShapiroResult(statistic=0.9672006368637085, pvalue=0.013552471995353699)\n",
      "WilcoxonResult(statistic=1952.0, pvalue=0.04880534424649582)\n"
     ]
    },
    {
     "data": {
      "text/plain": [
       "0     17.012475\n",
       "1      1.857081\n",
       "2     -5.366735\n",
       "3     -5.366735\n",
       "4      4.428478\n",
       "        ...    \n",
       "95    -4.762309\n",
       "96    -5.366735\n",
       "97     9.777363\n",
       "98    -5.366735\n",
       "99    -0.252676\n",
       "Name: height, Length: 100, dtype: float64"
      ]
     },
     "execution_count": 54,
     "metadata": {},
     "output_type": "execute_result"
    }
   ],
   "source": [
    "#100명의 키 정보가 들어있는 데이터가 있다.\n",
    "#데이터가 정규성을 만족하는지 확인하라\n",
    "#평균키는 165라 판단할수 있는지 귀무가설과 대립가설을 설정한 후\n",
    "#유의수준 5%로 검정하라\n",
    "import pandas as pd \n",
    "df = pd.read_csv('https://raw.githubusercontent.com/Datamanim/datarepo/main/scipy/height2.csv')\n",
    "\n",
    "#정규성 검정\n",
    "print(shapiro(df))\n",
    "#p-value<0.05\n",
    "#귀무가설 기각\n",
    "# 대립가설 : 정규성을 만족하지 않는다\n",
    "\n",
    "#정규성을 만족하지 않으므로 비모수 겸정을 진행\n",
    "#윌콕슨\n",
    "print(wilcoxon(df['height']-165))\n",
    "#p-value<0.05\n",
    "#귀무가설 기각\n",
    "#대립가설 : 평균은 165가 아니다"
   ]
  },
  {
   "cell_type": "markdown",
   "id": "08441311",
   "metadata": {},
   "source": [
    "### 등분산 검정"
   ]
  },
  {
   "cell_type": "code",
   "execution_count": 101,
   "id": "2d80e254",
   "metadata": {},
   "outputs": [
    {
     "name": "stdout",
     "output_type": "stream",
     "text": [
      "BartlettResult(statistic=0.26035880448930865, pvalue=0.609873758447687)\n",
      "FlignerResult(statistic=0.7281251154135562, pvalue=0.39349158741002765)\n",
      "FlignerResult(statistic=0.8272211734319945, pvalue=0.36307728836821906)\n",
      "LeveneResult(statistic=0.3145466542912649, pvalue=0.5751662820554713)\n",
      "LeveneResult(statistic=0.3145466542912649, pvalue=0.5751662820554713)\n"
     ]
    }
   ],
   "source": [
    "#두개 학급의 시험성적에 대한 데이터이다\n",
    "#그룹간 등분산 검정을 시행하라\n",
    "\n",
    "import pandas as pd \n",
    "df = pd.read_csv('https://raw.githubusercontent.com/Datamanim/datarepo/main/scipy/scipy2.csv')\n",
    "df.head()\n",
    "\n",
    "a_score = df[df['class'] == 'A']['score']\n",
    "b_score = df[df['class'] == 'B']['score']\n",
    "\n",
    "from scipy.stats import bartlett\n",
    "print(bartlett(a_score, b_score))\n",
    "\n",
    "#p-value>0.05\n",
    "#귀무가설 기각X\n",
    "#귀무가설 분산이 같다\n",
    "\n",
    "from scipy.stats import fligner\n",
    "print(fligner(a_score,b_score,center='median')) #default\n",
    "print(fligner(a_score,b_score, center='mean')) \n",
    "\n",
    "from scipy.stats import levene\n",
    "print(levene(a_score,b_score, center='median')) #default\n",
    "print(levene(a_score,b_score))"
   ]
  },
  {
   "cell_type": "code",
   "execution_count": 78,
   "id": "657cd188",
   "metadata": {},
   "outputs": [
    {
     "name": "stdout",
     "output_type": "stream",
     "text": [
      "300\n",
      "180\n",
      "BartlettResult(statistic=1.5116783794562305, pvalue=0.2188831590902503)\n",
      "FlignerResult(statistic=4.960366756026232, pvalue=0.025934706256615564)\n",
      "LeveneResult(statistic=4.307122424591436, pvalue=0.03848734007752694)\n"
     ]
    }
   ],
   "source": [
    "import pandas as pd \n",
    "df = pd.read_csv('https://raw.githubusercontent.com/Datamanim/datarepo/main/scipy/scipy3.csv')\n",
    "\n",
    "a_score = df[df['class'] == 'A']['score']\n",
    "b_score = df[df['class'] == 'B']['score']\n",
    "\n",
    "print(len(a_score))\n",
    "print(len(b_score))\n",
    "\n",
    "\n",
    "from scipy.stats import bartlett\n",
    "print(bartlett(a_score, b_score))\n",
    "\n",
    "from scipy.stats import fligner\n",
    "print(fligner(a_score,b_score)) #default \n",
    "\n",
    "from scipy.stats import levene\n",
    "print(levene(a_score,b_score)) #default\n",
    "\n",
    "#Fligner, Levene p-value<0.05이므로 귀무가설 기각\n",
    "#분산이 다르다"
   ]
  },
  {
   "cell_type": "markdown",
   "id": "61a7304e",
   "metadata": {},
   "source": [
    "#### 등분산 검정에 대해\n",
    "\n",
    "bartlett검정\n",
    "* 모든 그룹에서 표본 크기가 동일\n",
    "* 모집단이 정규분포에 따름\n",
    "\n",
    "fligner, levene검정\n",
    "* 표본 크기 동일안해도 됨\n",
    "* 모집단이 정규분포에 따르지않아도 됨"
   ]
  },
  {
   "cell_type": "code",
   "execution_count": 72,
   "id": "a3f79b99",
   "metadata": {},
   "outputs": [
    {
     "name": "stdout",
     "output_type": "stream",
     "text": [
      "ShapiroResult(statistic=0.9551980495452881, pvalue=5.150133652875866e-09)\n",
      "BartlettResult(statistic=2.383217881104806, pvalue=0.12264468401742169)\n",
      "FlignerResult(statistic=5.124831619122788, pvalue=0.023585858890699054)\n",
      "FlignerResult(statistic=5.124831619122788, pvalue=0.023585858890699054)\n"
     ]
    }
   ],
   "source": [
    "#두개학급의 시험성적 데이터 그룹간 등분산 검정 시행\n",
    "import pandas as pd \n",
    "df = pd.read_csv('https://raw.githubusercontent.com/Datamanim/datarepo/main/scipy/scipy6.csv')\n",
    "\n",
    "dir(stats)\n",
    "from scipy.stats import bartlett, fligner, levene\n",
    "\n",
    "print(bartlett(df['A'], df['B']))\n",
    "print(fligner(df['A'], df['B']))\n",
    "print(fligner(df['A'], df['B']))\n",
    "\n",
    "#표본크기가 같으므로 bartlett을 보자\n",
    "#p-value>0.05 이므로 귀무가설 기각 x\n",
    "#분산이 같다\n"
   ]
  },
  {
   "cell_type": "code",
   "execution_count": 76,
   "id": "76936e13",
   "metadata": {},
   "outputs": [
    {
     "name": "stdout",
     "output_type": "stream",
     "text": [
      "BartlettResult(statistic=3.024072692680794, pvalue=0.08203720607748438)\n",
      "FlignerResult(statistic=7.710320541528441, pvalue=0.005490600130793619)\n",
      "LeveneResult(statistic=8.008595918808284, pvalue=0.004851565077063284)\n"
     ]
    }
   ],
   "source": [
    "import pandas as pd \n",
    "df = pd.read_csv('https://raw.githubusercontent.com/Datamanim/datarepo/main/scipy/scipy5.csv')\n",
    "\n",
    "from scipy.stats import bartlett, fligner, levene\n",
    "\n",
    "print(bartlett(df['A'], df['B'].dropna()))\n",
    "print(fligner(df['A'], df['B'].dropna()))\n",
    "print(levene(df['A'], df['B'].dropna()))\n",
    "\n",
    "#표본크기가 다르므로 Fligner과 Levene를 보자\n",
    "#p-value < 0.05이므로 귀무가설 기각\n",
    "#분산이 다르다"
   ]
  },
  {
   "cell_type": "markdown",
   "id": "b701887c",
   "metadata": {},
   "source": [
    "### 독립표본 검정"
   ]
  },
  {
   "cell_type": "markdown",
   "id": "b3128ef6",
   "metadata": {},
   "source": [
    "독립 표본 t 검정의 경우 집단의 정규성에 따라 접근방식이 다르다  \n",
    "정규성 검정  \n",
    "shapiro  \n",
    "anderson(샘플 5000개 이상)  \n",
    "  \n",
    "데이터가 정규성을 가진다 -> 모수적 검정 :  \n",
    "    두 집단의 등분산 검정을 한 후  \n",
    "    from scipy.stats import ttest_ind  \n",
    "데이터가 정규성을 가지지 않는다 -> 비모수적 검정  "
   ]
  },
  {
   "cell_type": "code",
   "execution_count": 90,
   "id": "b4b63124",
   "metadata": {
    "scrolled": true
   },
   "outputs": [
    {
     "name": "stdout",
     "output_type": "stream",
     "text": [
      "ShapiroResult(statistic=0.9860946536064148, pvalue=0.379673033952713)\n",
      "ShapiroResult(statistic=0.990182638168335, pvalue=0.6793646216392517)\n",
      "정규성 검정 결과 : 두 데이터 모두 정규성을 따른다\n",
      "\n",
      "BartlettResult(statistic=4.170597307474754, pvalue=0.04113129672708929)\n",
      "LeveneResult(statistic=2.5337683795339547, pvalue=0.11302904824469093) \n",
      "\n",
      "만약, 정규성을 등분산성을 가진다고 하자\n",
      "Ttest_indResult(statistic=array([2.76719074]), pvalue=array([0.00619015]))\n"
     ]
    }
   ],
   "source": [
    "#두개 학급의 시험성적에 대한 데이터이다\n",
    "#두 학습의 시험 평균(비모수검정의 경우 중위값)은 동이랗다 말할수 있는지확인\n",
    "\n",
    "import pandas as pd \n",
    "import matplotlib.pyplot as plt\n",
    "df1 = pd.read_csv('https://raw.githubusercontent.com/Datamanim/datarepo/main/scipy/ind1.csv')\n",
    "df2 = pd.read_csv('https://raw.githubusercontent.com/Datamanim/datarepo/main/scipy/ind2.csv')\n",
    "\n",
    "from scipy.stats import shapiro\n",
    "print(shapiro(df1))\n",
    "print(shapiro(df2))\n",
    "print('정규성 검정 결과 : 두 데이터 모두 정규성을 따른다\\n')\n",
    "\n",
    "from scipy.stats import bartlett, levene\n",
    "print(bartlett(df1['data'], df2['data']))\n",
    "print(levene(df1['data'], df2['data']),'\\n')\n",
    "\n",
    "print('만약, 등분산성을 가진다고 하자')\n",
    "\n",
    "from scipy.stats import ttest_ind\n",
    "print(ttest_ind(df1, df2, equal_var=True))\n",
    "#p-value<0.05이기 때문에 귀무가설 기각\n",
    "#대립가설 : 각 그룹의 평균은 동일하지 않다"
   ]
  },
  {
   "cell_type": "code",
   "execution_count": 92,
   "id": "2df3a3aa",
   "metadata": {},
   "outputs": [
    {
     "data": {
      "text/html": [
       "<div>\n",
       "<style scoped>\n",
       "    .dataframe tbody tr th:only-of-type {\n",
       "        vertical-align: middle;\n",
       "    }\n",
       "\n",
       "    .dataframe tbody tr th {\n",
       "        vertical-align: top;\n",
       "    }\n",
       "\n",
       "    .dataframe thead th {\n",
       "        text-align: right;\n",
       "    }\n",
       "</style>\n",
       "<table border=\"1\" class=\"dataframe\">\n",
       "  <thead>\n",
       "    <tr style=\"text-align: right;\">\n",
       "      <th></th>\n",
       "      <th>A</th>\n",
       "      <th>B</th>\n",
       "    </tr>\n",
       "  </thead>\n",
       "  <tbody>\n",
       "    <tr>\n",
       "      <th>0</th>\n",
       "      <td>74</td>\n",
       "      <td>30.0</td>\n",
       "    </tr>\n",
       "    <tr>\n",
       "      <th>1</th>\n",
       "      <td>30</td>\n",
       "      <td>59.0</td>\n",
       "    </tr>\n",
       "    <tr>\n",
       "      <th>2</th>\n",
       "      <td>35</td>\n",
       "      <td>69.0</td>\n",
       "    </tr>\n",
       "    <tr>\n",
       "      <th>3</th>\n",
       "      <td>45</td>\n",
       "      <td>88.0</td>\n",
       "    </tr>\n",
       "    <tr>\n",
       "      <th>4</th>\n",
       "      <td>74</td>\n",
       "      <td>68.0</td>\n",
       "    </tr>\n",
       "    <tr>\n",
       "      <th>...</th>\n",
       "      <td>...</td>\n",
       "      <td>...</td>\n",
       "    </tr>\n",
       "    <tr>\n",
       "      <th>295</th>\n",
       "      <td>80</td>\n",
       "      <td>NaN</td>\n",
       "    </tr>\n",
       "    <tr>\n",
       "      <th>296</th>\n",
       "      <td>30</td>\n",
       "      <td>NaN</td>\n",
       "    </tr>\n",
       "    <tr>\n",
       "      <th>297</th>\n",
       "      <td>91</td>\n",
       "      <td>NaN</td>\n",
       "    </tr>\n",
       "    <tr>\n",
       "      <th>298</th>\n",
       "      <td>84</td>\n",
       "      <td>NaN</td>\n",
       "    </tr>\n",
       "    <tr>\n",
       "      <th>299</th>\n",
       "      <td>57</td>\n",
       "      <td>NaN</td>\n",
       "    </tr>\n",
       "  </tbody>\n",
       "</table>\n",
       "<p>300 rows × 2 columns</p>\n",
       "</div>"
      ],
      "text/plain": [
       "      A     B\n",
       "0    74  30.0\n",
       "1    30  59.0\n",
       "2    35  69.0\n",
       "3    45  88.0\n",
       "4    74  68.0\n",
       "..   ..   ...\n",
       "295  80   NaN\n",
       "296  30   NaN\n",
       "297  91   NaN\n",
       "298  84   NaN\n",
       "299  57   NaN\n",
       "\n",
       "[300 rows x 2 columns]"
      ]
     },
     "execution_count": 92,
     "metadata": {},
     "output_type": "execute_result"
    }
   ],
   "source": [
    "#두개 학급의 시험성적에 대한 데이터이다\n",
    "# 두 학습의 시험 평균(비모수검정의 경우 중위값)은 동일하다 말할 수 있는지 확인\n",
    "import pandas as pd \n",
    "import matplotlib.pyplot as plt\n",
    "df = pd.read_csv('https://raw.githubusercontent.com/Datamanim/datarepo/main/scipy/scipy5.csv')\n",
    "\n",
    "print(shapiro(df['A']))\n",
    "print(shapiro(df['B'].dropna()))\n",
    "\n",
    "#두 그룹중 한 그룹만 정규성을 위배해도 독립표본 t-검정을 할 수 없다\n",
    "\n",
    "#정규성을  위배하므로 비모수 검정을 실시한다\n",
    "from scipy.stats import mannwhitneyu, ranksums\n",
    "print()\n",
    "print(mannwhitneyu(df['A'], df['B'].dropna()))\n",
    "print(ranksums(df['A'], df['B'].dropna()))\n",
    "#p-value>0.05 귀무가설기각x\n",
    "#평균은 같다"
   ]
  },
  {
   "cell_type": "code",
   "execution_count": 102,
   "id": "e80c63f2",
   "metadata": {},
   "outputs": [
    {
     "name": "stdout",
     "output_type": "stream",
     "text": [
      "ShapiroResult(statistic=0.9834123253822327, pvalue=0.1473984718322754)\n",
      "ShapiroResult(statistic=0.9831852316856384, pvalue=0.4701973497867584)\n"
     ]
    }
   ],
   "source": [
    "# 두 개 그룹에 대한 수치형 데이터\n",
    "# 두 그룹의 평균은 동일하다 말할 수 있는지 검정하라\n",
    "\n",
    "import pandas as pd \n",
    "df = pd.read_csv('https://raw.githubusercontent.com/Datamanim/datarepo/main/scipy/ind3.csv')\n",
    "\n",
    "a = df[df['group'] == 'a']['data']\n",
    "b = df[df['group'] == 'b']['data']\n",
    "\n",
    "from scipy.stats import shapiro\n",
    "print(shapiro(a))\n",
    "print(shapiro(b))\n",
    "\n",
    "#두 그룹 모두 귀무가설을 기각할 수 없다(정규성을 가진다)\n",
    "\n",
    "from scipy.stats import levene\n",
    "print()\n",
    "print(levene(a,b))\n",
    "\n",
    "# 귀무가설을 기각, 대립가설을 채택한다. 즉, 등분산성을 가지지 않는다\n",
    "\n",
    "from scipy.stats import ttest_ind\n",
    "print(ttest_ind(a,b,equal_var=False))\n",
    "\n",
    "#p-value < 0.05 이므로 귀무가설 기각, 대립가설 채택. 즉, 평균이 다르다"
   ]
  },
  {
   "cell_type": "code",
   "execution_count": 106,
   "id": "91e42575",
   "metadata": {},
   "outputs": [
    {
     "data": {
      "text/html": [
       "<div>\n",
       "<style scoped>\n",
       "    .dataframe tbody tr th:only-of-type {\n",
       "        vertical-align: middle;\n",
       "    }\n",
       "\n",
       "    .dataframe tbody tr th {\n",
       "        vertical-align: top;\n",
       "    }\n",
       "\n",
       "    .dataframe thead th {\n",
       "        text-align: right;\n",
       "    }\n",
       "</style>\n",
       "<table border=\"1\" class=\"dataframe\">\n",
       "  <thead>\n",
       "    <tr style=\"text-align: right;\">\n",
       "      <th></th>\n",
       "      <th>a</th>\n",
       "      <th>b</th>\n",
       "    </tr>\n",
       "  </thead>\n",
       "  <tbody>\n",
       "    <tr>\n",
       "      <th>0</th>\n",
       "      <td>121.023118</td>\n",
       "      <td>69.982090</td>\n",
       "    </tr>\n",
       "    <tr>\n",
       "      <th>1</th>\n",
       "      <td>69.740978</td>\n",
       "      <td>139.774624</td>\n",
       "    </tr>\n",
       "    <tr>\n",
       "      <th>2</th>\n",
       "      <td>93.737693</td>\n",
       "      <td>175.425924</td>\n",
       "    </tr>\n",
       "    <tr>\n",
       "      <th>3</th>\n",
       "      <td>100.331645</td>\n",
       "      <td>85.493555</td>\n",
       "    </tr>\n",
       "    <tr>\n",
       "      <th>4</th>\n",
       "      <td>75.048925</td>\n",
       "      <td>83.488953</td>\n",
       "    </tr>\n",
       "    <tr>\n",
       "      <th>...</th>\n",
       "      <td>...</td>\n",
       "      <td>...</td>\n",
       "    </tr>\n",
       "    <tr>\n",
       "      <th>115</th>\n",
       "      <td>97.955501</td>\n",
       "      <td>NaN</td>\n",
       "    </tr>\n",
       "    <tr>\n",
       "      <th>116</th>\n",
       "      <td>116.839209</td>\n",
       "      <td>NaN</td>\n",
       "    </tr>\n",
       "    <tr>\n",
       "      <th>117</th>\n",
       "      <td>88.257448</td>\n",
       "      <td>NaN</td>\n",
       "    </tr>\n",
       "    <tr>\n",
       "      <th>118</th>\n",
       "      <td>89.904714</td>\n",
       "      <td>NaN</td>\n",
       "    </tr>\n",
       "    <tr>\n",
       "      <th>119</th>\n",
       "      <td>88.250342</td>\n",
       "      <td>NaN</td>\n",
       "    </tr>\n",
       "  </tbody>\n",
       "</table>\n",
       "<p>120 rows × 2 columns</p>\n",
       "</div>"
      ],
      "text/plain": [
       "              a           b\n",
       "0    121.023118   69.982090\n",
       "1     69.740978  139.774624\n",
       "2     93.737693  175.425924\n",
       "3    100.331645   85.493555\n",
       "4     75.048925   83.488953\n",
       "..          ...         ...\n",
       "115   97.955501         NaN\n",
       "116  116.839209         NaN\n",
       "117   88.257448         NaN\n",
       "118   89.904714         NaN\n",
       "119   88.250342         NaN\n",
       "\n",
       "[120 rows x 2 columns]"
      ]
     },
     "metadata": {},
     "output_type": "display_data"
    }
   ],
   "source": [
    "#두개 그룹에 대한 수치형 데이터이다.\n",
    "#두 그룹은 평균은 동일하다 말할 수 있는지 검정\n",
    "\n",
    "import pandas as pd\n",
    "df = pd.read_csv('https://raw.githubusercontent.com/Datamanim/datarepo/main/scipy/ind6.csv')\n",
    "\n",
    "display(df)"
   ]
  },
  {
   "cell_type": "code",
   "execution_count": 116,
   "id": "48b8e478",
   "metadata": {},
   "outputs": [
    {
     "name": "stdout",
     "output_type": "stream",
     "text": [
      "ShapiroResult(statistic=0.9865895509719849, pvalue=0.28390026092529297)\n",
      "ShapiroResult(statistic=0.9854326844215393, pvalue=0.5937624573707581)\n",
      "LeveneResult(statistic=3.9862856894158347, pvalue=0.04731495612868527)\n",
      "Ttest_indResult(statistic=0.0015963310698567184, pvalue=0.9987289046092704)\n"
     ]
    }
   ],
   "source": [
    "import pandas as pd\n",
    "df = pd.read_csv('https://raw.githubusercontent.com/Datamanim/datarepo/main/scipy/ind6.csv')\n",
    "\n",
    "\n",
    "a = df['a']\n",
    "b = df['b'].dropna()\n",
    "\n",
    "\n",
    "#정규성 검정\n",
    "from scipy.stats import shapiro\n",
    "print(shapiro(a))\n",
    "print(shapiro(b))\n",
    "#정규성을 가진다\n",
    "\n",
    "#등분산성 검정\n",
    "from scipy.stats import levene\n",
    "print(levene(a,b))\n",
    "#등분산성을 가지지 않는다\n",
    "\n",
    "#ttest_ind\n",
    "from scipy.stats import ttest_ind\n",
    "print(ttest_ind(a,b,equal_var=False))\n",
    "#평균은 같다"
   ]
  },
  {
   "cell_type": "markdown",
   "id": "87772581",
   "metadata": {},
   "source": [
    "### 대응표본 t 검정(paired)"
   ]
  },
  {
   "cell_type": "code",
   "execution_count": 120,
   "id": "33ce16c2",
   "metadata": {},
   "outputs": [
    {
     "name": "stdout",
     "output_type": "stream",
     "text": [
      "ShapiroResult(statistic=0.9907895922660828, pvalue=0.6065835952758789)\n",
      "ShapiroResult(statistic=0.9916961193084717, pvalue=0.6923638582229614)\n",
      "\n",
      "LeveneResult(statistic=0.06427968690211128, pvalue=0.8000741651677987)\n",
      "Ttest_relResult(statistic=-2.5535473487670677, pvalue=0.011926744724546513)\n"
     ]
    }
   ],
   "source": [
    "#특정 질병 집단의 투약 전후의 혈류량 변화를 나타낸 데이터이다\n",
    "#투약 전후의 변화가 있는지 검정하라\n",
    "\n",
    "import pandas as pd\n",
    "df = pd.read_csv('https://raw.githubusercontent.com/Datamanim/datarepo/main/scipy/rel2.csv')\n",
    "\n",
    "from scipy.stats import shapiro\n",
    "\n",
    "a = df['after']\n",
    "b = df['before']\n",
    "print(shapiro(b))\n",
    "print(shapiro(a))\n",
    "\n",
    "from scipy.stats import levene\n",
    "print()\n",
    "print(levene(b,a))\n",
    "\n",
    "from scipy.stats import ttest_rel\n",
    "print(ttest_rel(b,a))\n",
    "#귀무가설 기각 -> 전 후는 평균이 같지 않다"
   ]
  },
  {
   "cell_type": "code",
   "execution_count": 124,
   "id": "b1e345a0",
   "metadata": {},
   "outputs": [
    {
     "name": "stdout",
     "output_type": "stream",
     "text": [
      "ShapiroResult(statistic=0.9920631051063538, pvalue=0.7270199656486511)\n",
      "ShapiroResult(statistic=0.992019534111023, pvalue=0.7229290008544922)\n",
      "\n",
      "LeveneResult(statistic=1.3463330638203617, pvalue=0.24708279045237214)\n",
      "Ttest_relResult(statistic=0.188900575991026, pvalue=0.8504925317234707)\n"
     ]
    }
   ],
   "source": [
    "#특정 질병 집단의 투약 전후의 혈류량 변화를 나타낸 데이터이다\n",
    "#투약 전후의 변화가 있는지 검정하라\n",
    "\n",
    "import pandas as pd\n",
    "df = pd.read_csv('https://raw.githubusercontent.com/Datamanim/datarepo/main/scipy/rel3.csv')\n",
    "\n",
    "\n",
    "b = df['before']\n",
    "a = df['after']\n",
    "\n",
    "\n",
    "from scipy.stats import shapiro\n",
    "print(shapiro(b))\n",
    "print(shapiro(a))\n",
    "#정규성 가짐\n",
    "\n",
    "from scipy.stats import levene\n",
    "print()\n",
    "print(levene(b, a))\n",
    "#등분산성 가짐\n",
    "\n",
    "from scipy.stats import ttest_rel\n",
    "print(ttest_rel(b, a))\n",
    "#귀무가설 기각 X -> 투약전후가 같다"
   ]
  },
  {
   "cell_type": "code",
   "execution_count": 131,
   "id": "6153f278",
   "metadata": {},
   "outputs": [
    {
     "name": "stdout",
     "output_type": "stream",
     "text": [
      "ShapiroResult(statistic=0.9173730611801147, pvalue=0.0018974003614857793)\n",
      "ShapiroResult(statistic=0.9448966979980469, pvalue=0.021140215918421745)\n",
      "LeveneResult(statistic=0.14329522146179022, pvalue=0.7058456563194881)\n",
      "WilcoxonResult(statistic=437.0, pvalue=0.12098409484052809)\n"
     ]
    }
   ],
   "source": [
    "#특정 집단의 학습 전후 시험 성적 변화를 나타낸 데이터\n",
    "#시험 전과 후에 차이가 있는지 검정\n",
    "\n",
    "import pandas as pd\n",
    "df = pd.read_csv('https://raw.githubusercontent.com/Datamanim/datarepo/main/scipy/rel1.csv')\n",
    "\n",
    "from scipy.stats import shapiro\n",
    "\n",
    "b = df['before']\n",
    "a = df['after']\n",
    "print(shapiro(b))\n",
    "print(shapiro(a))\n",
    "#정규성 가지지 않음\n",
    "\n",
    "from scipy.stats import levene\n",
    "print(levene(b, a))\n",
    "#등분산성 가짐\n",
    "\n",
    "from scipy.stats import wilcoxon\n",
    "print(wilcoxon(b,a))\n",
    "#정규성을 가지지 않으므로 wilcoxon으로 진행\n",
    "#귀무가설 기각X"
   ]
  },
  {
   "cell_type": "code",
   "execution_count": 138,
   "id": "2915e2f0",
   "metadata": {},
   "outputs": [
    {
     "name": "stdout",
     "output_type": "stream",
     "text": [
      "ShapiroResult(statistic=0.9907217025756836, pvalue=0.8884284496307373)\n",
      "ShapiroResult(statistic=0.984674870967865, pvalue=0.5505106449127197)\n",
      "LeveneResult(statistic=0.06716114122680159, pvalue=0.7959020864923277)\n",
      "Ttest_relResult(statistic=-1.9018108294460812, pvalue=0.9693143365355352)\n"
     ]
    }
   ],
   "source": [
    "\n",
    "#한 기계 부품의 rpm 수치를 두가지 다른 상황에서 측정했다\n",
    "#b상황이 a 상황보다 rpm값이 높다고 말할 수 있는지 검정하라\n",
    "\n",
    "import pandas as pd\n",
    "df = pd.read_csv('https://raw.githubusercontent.com/Datamanim/datarepo/main/scipy/rel4.csv')\n",
    "\n",
    "\n",
    "a = df[df['group'] == 'a']['rpm']\n",
    "b = df[df['group'] == 'b']['rpm']\n",
    "\n",
    "from scipy.stats import shapiro\n",
    "\n",
    "print(shapiro(a))\n",
    "print(shapiro(b))\n",
    "#정규성을 가짐\n",
    "\n",
    "from scipy.stats import levene\n",
    "\n",
    "print(levene(a, b))\n",
    "#등분산성 가짐\n",
    "\n",
    "from scipy.stats import ttest_rel\n",
    "print(ttest_rel(a,b,alternative='greater'))\n",
    "#greater의 의미는 a>b가 대립가설이 된다는 것이다\n",
    "#귀무가설은 a<=b\n",
    "#b가 더 높다고 할 수 있다"
   ]
  },
  {
   "cell_type": "markdown",
   "id": "2b8dfb5f",
   "metadata": {},
   "source": [
    "## 카이제곱검정(교차분석)"
   ]
  },
  {
   "cell_type": "markdown",
   "id": "1a07e172",
   "metadata": {},
   "source": [
    "* 일원 카이제곱검정  \n",
    "한 개의 요인에 의해 k개의 범주를 가질 때, 이론적 분포를 따르는지 검정  \n",
    "* 이원 카이제곱검정  \n",
    "모집단이 두 개의 변수에 의해 범주화 되었을 때, 두 변수들 사이의 관계가 독립인지 아닌지 검정"
   ]
  },
  {
   "cell_type": "code",
   "execution_count": 2,
   "id": "e2286322",
   "metadata": {},
   "outputs": [
    {
     "data": {
      "text/html": [
       "<div>\n",
       "<style scoped>\n",
       "    .dataframe tbody tr th:only-of-type {\n",
       "        vertical-align: middle;\n",
       "    }\n",
       "\n",
       "    .dataframe tbody tr th {\n",
       "        vertical-align: top;\n",
       "    }\n",
       "\n",
       "    .dataframe thead th {\n",
       "        text-align: right;\n",
       "    }\n",
       "</style>\n",
       "<table border=\"1\" class=\"dataframe\">\n",
       "  <thead>\n",
       "    <tr style=\"text-align: right;\">\n",
       "      <th></th>\n",
       "      <th>dice_number</th>\n",
       "      <th>counts</th>\n",
       "      <th>expected</th>\n",
       "    </tr>\n",
       "  </thead>\n",
       "  <tbody>\n",
       "    <tr>\n",
       "      <th>0</th>\n",
       "      <td>1</td>\n",
       "      <td>24</td>\n",
       "      <td>24</td>\n",
       "    </tr>\n",
       "    <tr>\n",
       "      <th>1</th>\n",
       "      <td>2</td>\n",
       "      <td>20</td>\n",
       "      <td>24</td>\n",
       "    </tr>\n",
       "    <tr>\n",
       "      <th>2</th>\n",
       "      <td>3</td>\n",
       "      <td>28</td>\n",
       "      <td>24</td>\n",
       "    </tr>\n",
       "    <tr>\n",
       "      <th>3</th>\n",
       "      <td>4</td>\n",
       "      <td>22</td>\n",
       "      <td>24</td>\n",
       "    </tr>\n",
       "    <tr>\n",
       "      <th>4</th>\n",
       "      <td>5</td>\n",
       "      <td>28</td>\n",
       "      <td>24</td>\n",
       "    </tr>\n",
       "    <tr>\n",
       "      <th>5</th>\n",
       "      <td>6</td>\n",
       "      <td>22</td>\n",
       "      <td>24</td>\n",
       "    </tr>\n",
       "  </tbody>\n",
       "</table>\n",
       "</div>"
      ],
      "text/plain": [
       "   dice_number  counts  expected\n",
       "0            1      24        24\n",
       "1            2      20        24\n",
       "2            3      28        24\n",
       "3            4      22        24\n",
       "4            5      28        24\n",
       "5            6      22        24"
      ]
     },
     "execution_count": 2,
     "metadata": {},
     "output_type": "execute_result"
    }
   ],
   "source": [
    "# 144회 주사위를 던졌을 때,\n",
    "# 각 눈금별로 나온 횟수를 나타낸다.\n",
    "# 이데이터는 주사위의 분포에서 나올 가능성이 있는지 검정하라\n",
    "\n",
    "import pandas as pd\n",
    "df = pd.read_csv('https://raw.githubusercontent.com/Datamanim/datarepo/main/scipy/dice.csv')\n",
    "\n",
    "from scipy.stats import chisquare\n",
    "df['expected'] = (df['counts'].sum()/6).astype('int')\n",
    "df\n",
    "# print(chisquare(df['counts'], df['expected']))\n",
    "\n",
    "#귀무가설 기각X\n",
    "#각 주사위 눈금 발생비율은 동일함"
   ]
  },
  {
   "cell_type": "code",
   "execution_count": 166,
   "id": "c0338b3d",
   "metadata": {},
   "outputs": [
    {
     "data": {
      "text/html": [
       "<div>\n",
       "<style scoped>\n",
       "    .dataframe tbody tr th:only-of-type {\n",
       "        vertical-align: middle;\n",
       "    }\n",
       "\n",
       "    .dataframe tbody tr th {\n",
       "        vertical-align: top;\n",
       "    }\n",
       "\n",
       "    .dataframe thead th {\n",
       "        text-align: right;\n",
       "    }\n",
       "</style>\n",
       "<table border=\"1\" class=\"dataframe\">\n",
       "  <thead>\n",
       "    <tr style=\"text-align: right;\">\n",
       "      <th></th>\n",
       "      <th>count</th>\n",
       "      <th>expected</th>\n",
       "    </tr>\n",
       "    <tr>\n",
       "      <th>hands</th>\n",
       "      <th></th>\n",
       "      <th></th>\n",
       "    </tr>\n",
       "  </thead>\n",
       "  <tbody>\n",
       "    <tr>\n",
       "      <th>right</th>\n",
       "      <td>420</td>\n",
       "      <td>400.0</td>\n",
       "    </tr>\n",
       "    <tr>\n",
       "      <th>left</th>\n",
       "      <td>80</td>\n",
       "      <td>100.0</td>\n",
       "    </tr>\n",
       "  </tbody>\n",
       "</table>\n",
       "</div>"
      ],
      "text/plain": [
       "       count  expected\n",
       "hands                 \n",
       "right    420     400.0\n",
       "left      80     100.0"
      ]
     },
     "metadata": {},
     "output_type": "display_data"
    },
    {
     "name": "stdout",
     "output_type": "stream",
     "text": [
      "Power_divergenceResult(statistic=5.0, pvalue=0.025347318677468325)\n"
     ]
    }
   ],
   "source": [
    "#다음 데이터는 어떤 집단의 왼손잡이, 오른손 잡이의 숫자를 나타낸다.\n",
    "#인간의 왼손잡이와 오른손잡이의 비율을 0.2:0.8로 알려져있다\n",
    "#이 집단에서 왼손과 오른손 잡이의 비율이 적합한지 검정하라\n",
    "\n",
    "import pandas as pd \n",
    "df1 = pd.read_csv('https://raw.githubusercontent.com/Datamanim/datarepo/main/scipy/hands2.csv')\n",
    "\n",
    "df = df1.value_counts().to_frame('count')\n",
    "df['expected'] = [df['count'].sum() * 0.8, df['count'].sum() * 0.2]\n",
    "display(df)\n",
    "\n",
    "from scipy.stats import chisquare\n",
    "print(chisquare(df['count'], df['expected']))\n",
    "#귀무가설 기각\n",
    "#대립가설 : 왼손과 오른손 잡이의 비율이 적합하지 않다"
   ]
  },
  {
   "cell_type": "code",
   "execution_count": 171,
   "id": "c3b1d8a4",
   "metadata": {},
   "outputs": [
    {
     "data": {
      "text/html": [
       "<div>\n",
       "<style scoped>\n",
       "    .dataframe tbody tr th:only-of-type {\n",
       "        vertical-align: middle;\n",
       "    }\n",
       "\n",
       "    .dataframe tbody tr th {\n",
       "        vertical-align: top;\n",
       "    }\n",
       "\n",
       "    .dataframe thead th {\n",
       "        text-align: right;\n",
       "    }\n",
       "</style>\n",
       "<table border=\"1\" class=\"dataframe\">\n",
       "  <thead>\n",
       "    <tr style=\"text-align: right;\">\n",
       "      <th>등급</th>\n",
       "      <th>A</th>\n",
       "      <th>B</th>\n",
       "      <th>C</th>\n",
       "      <th>D</th>\n",
       "    </tr>\n",
       "    <tr>\n",
       "      <th>측정회원성별</th>\n",
       "      <th></th>\n",
       "      <th></th>\n",
       "      <th></th>\n",
       "      <th></th>\n",
       "    </tr>\n",
       "  </thead>\n",
       "  <tbody>\n",
       "    <tr>\n",
       "      <th>F</th>\n",
       "      <td>1484</td>\n",
       "      <td>1130</td>\n",
       "      <td>1147</td>\n",
       "      <td>1120</td>\n",
       "    </tr>\n",
       "    <tr>\n",
       "      <th>M</th>\n",
       "      <td>1865</td>\n",
       "      <td>2219</td>\n",
       "      <td>2202</td>\n",
       "      <td>2229</td>\n",
       "    </tr>\n",
       "  </tbody>\n",
       "</table>\n",
       "</div>"
      ],
      "text/plain": [
       "등급         A     B     C     D\n",
       "측정회원성별                        \n",
       "F       1484  1130  1147  1120\n",
       "M       1865  2219  2202  2229"
      ]
     },
     "metadata": {},
     "output_type": "display_data"
    },
    {
     "name": "stdout",
     "output_type": "stream",
     "text": [
      "(120.06233631119409, 7.481892813401677e-26, 3, array([[1220.25, 1220.25, 1220.25, 1220.25],\n",
      "       [2128.75, 2128.75, 2128.75, 2128.75]]))\n"
     ]
    }
   ],
   "source": [
    "#다음 데이터는 국민 기초체력을 조사한 데이터이다. 성별과 등급이 독립적인지 검정\n",
    "\n",
    "import pandas as pd \n",
    "df = pd.read_csv('https://raw.githubusercontent.com/Datamanim/datarepo/main/body/body.csv')\n",
    "cdf = pd.crosstab(df['측정회원성별'], df['등급'])\n",
    "display(cdf)\n",
    "\n",
    "from scipy.stats import chi2_contingency\n",
    "print(chi2_contingency(cdf))\n",
    "#p-value 2번째꺼\n",
    "#귀무가설 기각\n",
    "#귀무가설 : 성별, 등급은 독립적이다\n",
    "#대립가설 : 독립적이지않다(관련이 있다)"
   ]
  },
  {
   "cell_type": "code",
   "execution_count": 172,
   "id": "05f09224",
   "metadata": {},
   "outputs": [],
   "source": [
    "import pandas as pd\n",
    "df = pd.read_csv('https://raw.githubusercontent.com/Datamanim/datarepo/main/scipy/fe2.csv',index_col=0)"
   ]
  },
  {
   "cell_type": "code",
   "execution_count": 179,
   "id": "6be7e4a5",
   "metadata": {},
   "outputs": [
    {
     "data": {
      "text/html": [
       "<div>\n",
       "<style scoped>\n",
       "    .dataframe tbody tr th:only-of-type {\n",
       "        vertical-align: middle;\n",
       "    }\n",
       "\n",
       "    .dataframe tbody tr th {\n",
       "        vertical-align: top;\n",
       "    }\n",
       "\n",
       "    .dataframe thead th {\n",
       "        text-align: right;\n",
       "    }\n",
       "</style>\n",
       "<table border=\"1\" class=\"dataframe\">\n",
       "  <thead>\n",
       "    <tr style=\"text-align: right;\">\n",
       "      <th></th>\n",
       "      <th>불참</th>\n",
       "      <th>참석</th>\n",
       "    </tr>\n",
       "  </thead>\n",
       "  <tbody>\n",
       "    <tr>\n",
       "      <th>남성</th>\n",
       "      <td>4</td>\n",
       "      <td>2</td>\n",
       "    </tr>\n",
       "    <tr>\n",
       "      <th>여성</th>\n",
       "      <td>1</td>\n",
       "      <td>9</td>\n",
       "    </tr>\n",
       "  </tbody>\n",
       "</table>\n",
       "</div>"
      ],
      "text/plain": [
       "    불참  참석\n",
       "남성   4   2\n",
       "여성   1   9"
      ]
     },
     "metadata": {},
     "output_type": "display_data"
    },
    {
     "name": "stdout",
     "output_type": "stream",
     "text": [
      "(3.277575757575758, 0.07023259819117404, 1, array([[1.875, 4.125],\n",
      "       [3.125, 6.875]]))\n",
      "(18.0, 0.03571428571428571)\n"
     ]
    }
   ],
   "source": [
    "import pandas as pd\n",
    "df = pd.read_csv('https://raw.githubusercontent.com/Datamanim/datarepo/main/scipy/fe2.csv',index_col=0)\n",
    "\n",
    "cdf = df.iloc[0:2, 0:2]\n",
    "display(cdf)\n",
    "\n",
    "from scipy.stats import chi2_contingency\n",
    "print(chi2_contingency(cdf))\n",
    "#귀무가설 기각 X\n",
    "#귀무가설 : 성별과 참석은 독립적이다\n",
    "\n",
    "#5보다 작은 셀이 20%가 넘으므로 피셔의 정확검정을 사용해야한다\n",
    "from scipy.stats import fisher_exact\n",
    "print(fisher_exact(cdf))\n",
    "#귀무가설 기각\n",
    "#성별과 참석은 독립적이다"
   ]
  },
  {
   "cell_type": "markdown",
   "id": "b9c9ca14",
   "metadata": {},
   "source": [
    "### anova"
   ]
  },
  {
   "cell_type": "markdown",
   "id": "68a131d1",
   "metadata": {},
   "source": [
    "###### 세 집단 이상 검정"
   ]
  },
  {
   "cell_type": "code",
   "execution_count": 12,
   "id": "cc6638a4",
   "metadata": {},
   "outputs": [
    {
     "name": "stdout",
     "output_type": "stream",
     "text": [
      "ShapiroResult(statistic=0.9979789853096008, pvalue=0.27395427227020264)\n",
      "ShapiroResult(statistic=0.9979418516159058, pvalue=0.2591271996498108)\n",
      "ShapiroResult(statistic=0.9987621307373047, pvalue=0.7300694584846497)\n",
      "LeveneResult(statistic=2.71270174202054, pvalue=0.06652021922816238)\n",
      "F_onewayResult(statistic=209.88499932318638, pvalue=4.919152988455592e-86)\n"
     ]
    }
   ],
   "source": [
    "# x1, x2, x3의 변수들의 평균의 차이가 존재하는지 검정하라\n",
    "\n",
    "import pandas as pd\n",
    "df = pd.read_csv('https://raw.githubusercontent.com/Datamanim/datarepo/main/scipy/anova.csv')\n",
    "\n",
    "df1 = df['x1']\n",
    "df2 = df['x2']\n",
    "df3 = df['x3']\n",
    "\n",
    "from scipy.stats import shapiro\n",
    "\n",
    "print(shapiro(df1))\n",
    "print(shapiro(df2))\n",
    "print(shapiro(df3))\n",
    "# 모두 정규성 만족\n",
    "\n",
    "from scipy.stats import levene\n",
    "print(levene(df1, df2, df3))\n",
    "# 등분산 만족\n",
    "\n",
    "from scipy.stats import f_oneway\n",
    "print(f_oneway(df1, df2, df3))\n",
    "#p-value<0.05\n",
    "#귀무가설 기각\n",
    "#대립가설 : 평균 차이가 있다"
   ]
  },
  {
   "cell_type": "code",
   "execution_count": 18,
   "id": "3edd50a4",
   "metadata": {},
   "outputs": [
    {
     "name": "stdout",
     "output_type": "stream",
     "text": [
      "ShapiroResult(statistic=0.9886645078659058, pvalue=0.5584133863449097)\n",
      "ShapiroResult(statistic=0.9924368858337402, pvalue=0.8519019484519958)\n",
      "ShapiroResult(statistic=0.9848724007606506, pvalue=0.31092315912246704)\n",
      "LeveneResult(statistic=1.845797549925243, pvalue=0.15970603203148068)\n",
      "F_onewayResult(statistic=2.386152612702158, pvalue=0.09374426938585284)\n"
     ]
    }
   ],
   "source": [
    "import pandas as pd \n",
    "import matplotlib.pyplot as plt\n",
    "df = pd.read_csv('https://raw.githubusercontent.com/Datamanim/datarepo/main/scipy/anova2.csv')\n",
    "\n",
    "df1 = df['x1']\n",
    "df2 = df['x2']\n",
    "df3 = df['x3']\n",
    "\n",
    "from scipy.stats import shapiro\n",
    "print(shapiro(df1))\n",
    "print(shapiro(df2))\n",
    "print(shapiro(df3))\n",
    "\n",
    "from scipy.stats import levene\n",
    "print(levene(df1, df2, df3))\n",
    "\n",
    "from scipy.stats import f_oneway\n",
    "print(f_oneway(df1, df2, df3))\n",
    "\n",
    "#귀무가설 기각X\n",
    "#평균이 동일하다"
   ]
  },
  {
   "cell_type": "code",
   "execution_count": 25,
   "id": "b6378fdf",
   "metadata": {},
   "outputs": [
    {
     "name": "stdout",
     "output_type": "stream",
     "text": [
      "ShapiroResult(statistic=0.9666392207145691, pvalue=0.012299093417823315)\n",
      "ShapiroResult(statistic=0.9713972210884094, pvalue=0.10934212058782578)\n",
      "ShapiroResult(statistic=0.9651247262954712, pvalue=0.41566193103790283)\n",
      "LeveneResult(statistic=1.4817966330841852, pvalue=0.2297504921313145)\n",
      "KruskalResult(statistic=6.9277037668798584, pvalue=0.03130893110123)\n"
     ]
    }
   ],
   "source": [
    "import pandas as pd \n",
    "import matplotlib.pyplot as plt\n",
    "df = pd.read_csv('https://raw.githubusercontent.com/Datamanim/datarepo/main/scipy/anova8.csv')\n",
    "\n",
    "data = df[df.target=='a'].value\n",
    "data2 = df[df.target=='b'].value\n",
    "data3 = df[df.target=='c'].value\n",
    "\n",
    "from scipy.stats import shapiro\n",
    "print(shapiro(data))\n",
    "print(shapiro(data2))\n",
    "print(shapiro(data3))\n",
    "#하나의 변수가 정규성을 가지지 않는다 - 비모수 검정\n",
    "\n",
    "from scipy.stats import levene\n",
    "print(levene(data, data2, data3))\n",
    "#등분산 만족\n",
    "\n",
    "from scipy.stats import kruskal\n",
    "#비모수 검정을 위해 kruskal을 사용한다\n",
    "print(kruskal(data, data2, data3))\n",
    "#평균차이가 존재한다"
   ]
  },
  {
   "cell_type": "code",
   "execution_count": 3,
   "id": "3842cbd8",
   "metadata": {
    "scrolled": true
   },
   "outputs": [
    {
     "data": {
      "text/html": [
       "<div>\n",
       "<style scoped>\n",
       "    .dataframe tbody tr th:only-of-type {\n",
       "        vertical-align: middle;\n",
       "    }\n",
       "\n",
       "    .dataframe tbody tr th {\n",
       "        vertical-align: top;\n",
       "    }\n",
       "\n",
       "    .dataframe thead th {\n",
       "        text-align: right;\n",
       "    }\n",
       "</style>\n",
       "<table border=\"1\" class=\"dataframe\">\n",
       "  <thead>\n",
       "    <tr style=\"text-align: right;\">\n",
       "      <th></th>\n",
       "      <th>variable</th>\n",
       "      <th>value</th>\n",
       "    </tr>\n",
       "  </thead>\n",
       "  <tbody>\n",
       "    <tr>\n",
       "      <th>0</th>\n",
       "      <td>x1</td>\n",
       "      <td>211.363083</td>\n",
       "    </tr>\n",
       "    <tr>\n",
       "      <th>1</th>\n",
       "      <td>x1</td>\n",
       "      <td>117.428643</td>\n",
       "    </tr>\n",
       "    <tr>\n",
       "      <th>2</th>\n",
       "      <td>x1</td>\n",
       "      <td>231.636723</td>\n",
       "    </tr>\n",
       "    <tr>\n",
       "      <th>3</th>\n",
       "      <td>x1</td>\n",
       "      <td>244.284666</td>\n",
       "    </tr>\n",
       "    <tr>\n",
       "      <th>4</th>\n",
       "      <td>x1</td>\n",
       "      <td>242.221433</td>\n",
       "    </tr>\n",
       "    <tr>\n",
       "      <th>...</th>\n",
       "      <td>...</td>\n",
       "      <td>...</td>\n",
       "    </tr>\n",
       "    <tr>\n",
       "      <th>2995</th>\n",
       "      <td>x3</td>\n",
       "      <td>395.439481</td>\n",
       "    </tr>\n",
       "    <tr>\n",
       "      <th>2996</th>\n",
       "      <td>x3</td>\n",
       "      <td>282.016732</td>\n",
       "    </tr>\n",
       "    <tr>\n",
       "      <th>2997</th>\n",
       "      <td>x3</td>\n",
       "      <td>264.838466</td>\n",
       "    </tr>\n",
       "    <tr>\n",
       "      <th>2998</th>\n",
       "      <td>x3</td>\n",
       "      <td>310.191301</td>\n",
       "    </tr>\n",
       "    <tr>\n",
       "      <th>2999</th>\n",
       "      <td>x3</td>\n",
       "      <td>360.552644</td>\n",
       "    </tr>\n",
       "  </tbody>\n",
       "</table>\n",
       "<p>3000 rows × 2 columns</p>\n",
       "</div>"
      ],
      "text/plain": [
       "     variable       value\n",
       "0          x1  211.363083\n",
       "1          x1  117.428643\n",
       "2          x1  231.636723\n",
       "3          x1  244.284666\n",
       "4          x1  242.221433\n",
       "...       ...         ...\n",
       "2995       x3  395.439481\n",
       "2996       x3  282.016732\n",
       "2997       x3  264.838466\n",
       "2998       x3  310.191301\n",
       "2999       x3  360.552644\n",
       "\n",
       "[3000 rows x 2 columns]"
      ]
     },
     "metadata": {},
     "output_type": "display_data"
    },
    {
     "name": "stdout",
     "output_type": "stream",
     "text": [
      "                 df        sum_sq       mean_sq           F        PR(>F)\n",
      "C(variable)     2.0  3.774347e+06  1.887173e+06  209.884999  4.919153e-86\n",
      "Residual     2997.0  2.694742e+07  8.991464e+03         NaN           NaN\n"
     ]
    }
   ],
   "source": [
    "df = pd.read_csv('https://raw.githubusercontent.com/Datamanim/datarepo/main/scipy/anova.csv')\n",
    "\n",
    "from statsmodels.formula.api import ols\n",
    "from statsmodels.stats.anova import anova_lm\n",
    "dfm = df.melt()\n",
    "display(dfm)\n",
    "model = ols('value ~ C(variable)', dfm).fit()\n",
    "print(anova_lm(model))"
   ]
  },
  {
   "cell_type": "code",
   "execution_count": 40,
   "id": "f1271b8c",
   "metadata": {},
   "outputs": [
    {
     "name": "stdout",
     "output_type": "stream",
     "text": [
      "                df         sum_sq      mean_sq         F    PR(>F)\n",
      "C(variable)    2.0    4856.241506  2428.120753  2.386153  0.093744\n",
      "Residual     297.0  302223.696757  1017.588205       NaN       NaN\n"
     ]
    }
   ],
   "source": [
    "df = pd.read_csv('https://raw.githubusercontent.com/Datamanim/datarepo/main/scipy/anova2.csv')\n",
    "\n",
    "from statsmodels.formula.api import ols\n",
    "from statsmodels.stats.anova import anova_lm\n",
    "\n",
    "mdf = df.melt()\n",
    "\n",
    "model = ols('value ~ C(variable)', mdf).fit()\n",
    "print(anova_lm(model))"
   ]
  },
  {
   "cell_type": "code",
   "execution_count": null,
   "id": "297e681d",
   "metadata": {},
   "outputs": [],
   "source": []
  }
 ],
 "metadata": {
  "kernelspec": {
   "display_name": "Python 3 (ipykernel)",
   "language": "python",
   "name": "python3"
  },
  "language_info": {
   "codemirror_mode": {
    "name": "ipython",
    "version": 3
   },
   "file_extension": ".py",
   "mimetype": "text/x-python",
   "name": "python",
   "nbconvert_exporter": "python",
   "pygments_lexer": "ipython3",
   "version": "3.9.13"
  }
 },
 "nbformat": 4,
 "nbformat_minor": 5
}
