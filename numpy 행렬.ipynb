{
 "cells": [
  {
   "cell_type": "code",
   "execution_count": 1,
   "id": "7d28b8a6",
   "metadata": {},
   "outputs": [],
   "source": [
    "import numpy as np"
   ]
  },
  {
   "cell_type": "code",
   "execution_count": 3,
   "id": "0998f6a3",
   "metadata": {},
   "outputs": [
    {
     "data": {
      "text/plain": [
       "array([[ 1, -1,  2],\n",
       "       [ 3,  2,  2],\n",
       "       [ 4,  1,  2],\n",
       "       [ 7,  5,  6]])"
      ]
     },
     "execution_count": 3,
     "metadata": {},
     "output_type": "execute_result"
    }
   ],
   "source": [
    "#list 안에 list(2차원배열)\n",
    "A = np.array([\n",
    "    [1, -1, 2],\n",
    "    [3, 2, 2],\n",
    "    [4, 1, 2],\n",
    "    [7, 5, 6]\n",
    "])\n",
    "A"
   ]
  },
  {
   "cell_type": "code",
   "execution_count": 4,
   "id": "c344260a",
   "metadata": {},
   "outputs": [
    {
     "data": {
      "text/plain": [
       "array([[ 0,  1],\n",
       "       [-1,  3],\n",
       "       [ 5,  2]])"
      ]
     },
     "execution_count": 4,
     "metadata": {},
     "output_type": "execute_result"
    }
   ],
   "source": [
    "B = np.array([\n",
    "    [0, 1],\n",
    "    [-1, 3],\n",
    "    [5, 2]\n",
    "])\n",
    "B"
   ]
  },
  {
   "cell_type": "code",
   "execution_count": 6,
   "id": "f964e255",
   "metadata": {},
   "outputs": [
    {
     "data": {
      "text/plain": [
       "array([[0.62497607, 0.01480735, 0.1561599 , 0.8455759 , 0.67614776],\n",
       "       [0.11727619, 0.30938154, 0.48640966, 0.65078827, 0.36286538],\n",
       "       [0.99708824, 0.14951891, 0.84201727, 0.56208386, 0.27750683]])"
      ]
     },
     "execution_count": 6,
     "metadata": {},
     "output_type": "execute_result"
    }
   ],
   "source": [
    "C = np.random.rand(3, 5)\n",
    "C"
   ]
  },
  {
   "cell_type": "code",
   "execution_count": 10,
   "id": "9de208b1",
   "metadata": {},
   "outputs": [
    {
     "data": {
      "text/plain": [
       "array([[0., 0., 0., 0.],\n",
       "       [0., 0., 0., 0.]])"
      ]
     },
     "execution_count": 10,
     "metadata": {},
     "output_type": "execute_result"
    }
   ],
   "source": [
    "#괄호를 한번 더 써줘야 함\n",
    "D = np.zeros((2, 4))\n",
    "D"
   ]
  },
  {
   "cell_type": "code",
   "execution_count": 11,
   "id": "edb6d247",
   "metadata": {},
   "outputs": [],
   "source": [
    "#행렬에서 원소를 받아오는법"
   ]
  },
  {
   "cell_type": "code",
   "execution_count": 12,
   "id": "83b4c9b1",
   "metadata": {},
   "outputs": [
    {
     "data": {
      "text/plain": [
       "array([[ 1, -1,  2],\n",
       "       [ 3,  2,  2],\n",
       "       [ 4,  1,  2],\n",
       "       [ 7,  5,  6]])"
      ]
     },
     "execution_count": 12,
     "metadata": {},
     "output_type": "execute_result"
    }
   ],
   "source": [
    "A"
   ]
  },
  {
   "cell_type": "code",
   "execution_count": 14,
   "id": "890d6f54",
   "metadata": {},
   "outputs": [
    {
     "data": {
      "text/plain": [
       "2"
      ]
     },
     "execution_count": 14,
     "metadata": {},
     "output_type": "execute_result"
    }
   ],
   "source": [
    "#파이선은 0부터기 때문에 1행3열은 [0][2]를 써줘야함 \n",
    "A[0][2]"
   ]
  },
  {
   "cell_type": "markdown",
   "id": "d98a501f",
   "metadata": {},
   "source": [
    "# 요소별 곱하기"
   ]
  },
  {
   "cell_type": "code",
   "execution_count": 6,
   "id": "c4a4ffd3",
   "metadata": {},
   "outputs": [],
   "source": [
    "import numpy as np\n",
    "\n",
    "A = np.array([\n",
    "    [1, 2, 3],\n",
    "    [4, 5, 6],\n",
    "    [7, 8, 9]\n",
    "])\n",
    "\n",
    "B = np.array([\n",
    "    [0, 1, 2],\n",
    "    [2, 0, 1],\n",
    "    [1, 2, 0]\n",
    "])"
   ]
  },
  {
   "cell_type": "code",
   "execution_count": 7,
   "id": "7ddbf43f",
   "metadata": {},
   "outputs": [
    {
     "data": {
      "text/plain": [
       "array([[ 0,  2,  6],\n",
       "       [ 8,  0,  6],\n",
       "       [ 7, 16,  0]])"
      ]
     },
     "execution_count": 7,
     "metadata": {},
     "output_type": "execute_result"
    }
   ],
   "source": [
    "A * B"
   ]
  },
  {
   "cell_type": "markdown",
   "id": "c382d837",
   "metadata": {},
   "source": [
    "# numpy로 행렬 연산하기"
   ]
  },
  {
   "cell_type": "code",
   "execution_count": 8,
   "id": "a23e836e",
   "metadata": {},
   "outputs": [],
   "source": [
    "import numpy as np"
   ]
  },
  {
   "cell_type": "code",
   "execution_count": 9,
   "id": "e5100f01",
   "metadata": {},
   "outputs": [],
   "source": [
    "A = np.array([\n",
    "    [1, -1, 2],\n",
    "    [3, 2, 2],\n",
    "    [4, 1, 2]\n",
    "])\n",
    "\n",
    "B = np.random.rand(3, 3)"
   ]
  },
  {
   "cell_type": "code",
   "execution_count": 10,
   "id": "07e0dfd7",
   "metadata": {},
   "outputs": [
    {
     "data": {
      "text/plain": [
       "array([[ 1, -1,  2],\n",
       "       [ 3,  2,  2],\n",
       "       [ 4,  1,  2]])"
      ]
     },
     "execution_count": 10,
     "metadata": {},
     "output_type": "execute_result"
    }
   ],
   "source": [
    "A"
   ]
  },
  {
   "cell_type": "code",
   "execution_count": 11,
   "id": "98a40759",
   "metadata": {},
   "outputs": [
    {
     "data": {
      "text/plain": [
       "array([[0.40113289, 0.84930458, 0.04047817],\n",
       "       [0.71952307, 0.93312077, 0.9009092 ],\n",
       "       [0.39818926, 0.09024453, 0.52673401]])"
      ]
     },
     "execution_count": 11,
     "metadata": {},
     "output_type": "execute_result"
    }
   ],
   "source": [
    "B"
   ]
  },
  {
   "cell_type": "code",
   "execution_count": 13,
   "id": "6b83db46",
   "metadata": {},
   "outputs": [
    {
     "data": {
      "text/plain": [
       "array([[ 1.40113289, -0.15069542,  2.04047817],\n",
       "       [ 3.71952307,  2.93312077,  2.9009092 ],\n",
       "       [ 4.39818926,  1.09024453,  2.52673401]])"
      ]
     },
     "execution_count": 13,
     "metadata": {},
     "output_type": "execute_result"
    }
   ],
   "source": [
    "A + B"
   ]
  },
  {
   "cell_type": "code",
   "execution_count": 14,
   "id": "d756a5f2",
   "metadata": {},
   "outputs": [
    {
     "data": {
      "text/plain": [
       "array([[ 5, -5, 10],\n",
       "       [15, 10, 10],\n",
       "       [20,  5, 10]])"
      ]
     },
     "execution_count": 14,
     "metadata": {},
     "output_type": "execute_result"
    }
   ],
   "source": [
    "#스칼라곱\n",
    "5 * A"
   ]
  },
  {
   "cell_type": "code",
   "execution_count": 16,
   "id": "9d9c70eb",
   "metadata": {},
   "outputs": [
    {
     "data": {
      "text/plain": [
       "array([[0.47798833, 0.09667286, 0.19303698],\n",
       "       [3.43882332, 4.59464431, 2.97672093],\n",
       "       [3.12043313, 4.51082812, 2.11628989]])"
      ]
     },
     "execution_count": 16,
     "metadata": {},
     "output_type": "execute_result"
    }
   ],
   "source": [
    "#행렬의 곱1\n",
    "np.dot(A, B)"
   ]
  },
  {
   "cell_type": "code",
   "execution_count": 17,
   "id": "2abbd39f",
   "metadata": {},
   "outputs": [
    {
     "data": {
      "text/plain": [
       "array([[0.47798833, 0.09667286, 0.19303698],\n",
       "       [3.43882332, 4.59464431, 2.97672093],\n",
       "       [3.12043313, 4.51082812, 2.11628989]])"
      ]
     },
     "execution_count": 17,
     "metadata": {},
     "output_type": "execute_result"
    }
   ],
   "source": [
    "#행렬의 곱2\n",
    "A @ B"
   ]
  },
  {
   "cell_type": "code",
   "execution_count": 18,
   "id": "7c436858",
   "metadata": {},
   "outputs": [
    {
     "data": {
      "text/plain": [
       "array([[2.2802541 , 0.79528201, 2.27399332],\n",
       "       [7.87786946, 8.46088584, 6.77853934],\n",
       "       [7.91681164, 5.69131717, 5.16975791]])"
      ]
     },
     "execution_count": 18,
     "metadata": {},
     "output_type": "execute_result"
    }
   ],
   "source": [
    "A @ B + (A + 2 * B)"
   ]
  },
  {
   "cell_type": "markdown",
   "id": "105792de",
   "metadata": {},
   "source": [
    "# numpy로 전치,단위,역행렬 사용하기"
   ]
  },
  {
   "cell_type": "markdown",
   "id": "c8a2f2db",
   "metadata": {},
   "source": [
    "#### 전치행렬 - 행과 열이 서로 바뀐 행렬\n",
    "#### 단위행렬 - 왼쪽위부터 대각선으로 1, 그외는 0인 행렬(n * n 행렬)\n",
    "#### 역행렬 - 행렬A와 곱해서 단위행렬이 나오는 행렬"
   ]
  },
  {
   "cell_type": "code",
   "execution_count": 20,
   "id": "c9e8ff55",
   "metadata": {},
   "outputs": [],
   "source": [
    "import numpy as np\n",
    "\n",
    "A = np.array([\n",
    "    [1, -1, 2],\n",
    "    [3, 2, 2],\n",
    "    [4, 1, 2]\n",
    "])"
   ]
  },
  {
   "cell_type": "code",
   "execution_count": 21,
   "id": "f3cc5234",
   "metadata": {},
   "outputs": [
    {
     "data": {
      "text/plain": [
       "array([[ 1, -1,  2],\n",
       "       [ 3,  2,  2],\n",
       "       [ 4,  1,  2]])"
      ]
     },
     "execution_count": 21,
     "metadata": {},
     "output_type": "execute_result"
    }
   ],
   "source": [
    "A"
   ]
  },
  {
   "cell_type": "code",
   "execution_count": 24,
   "id": "76f08269",
   "metadata": {},
   "outputs": [
    {
     "data": {
      "text/plain": [
       "array([[ 1,  3,  4],\n",
       "       [-1,  2,  1],\n",
       "       [ 2,  2,  2]])"
      ]
     },
     "execution_count": 24,
     "metadata": {},
     "output_type": "execute_result"
    }
   ],
   "source": [
    "#전치행렬\n",
    "A_transpose = np.transpose(A)\n",
    "A_transpose"
   ]
  },
  {
   "cell_type": "code",
   "execution_count": 25,
   "id": "0282e898",
   "metadata": {},
   "outputs": [
    {
     "data": {
      "text/plain": [
       "array([[ 1,  3,  4],\n",
       "       [-1,  2,  1],\n",
       "       [ 2,  2,  2]])"
      ]
     },
     "execution_count": 25,
     "metadata": {},
     "output_type": "execute_result"
    }
   ],
   "source": [
    "A.T"
   ]
  },
  {
   "cell_type": "code",
   "execution_count": 28,
   "id": "62c58702",
   "metadata": {},
   "outputs": [
    {
     "data": {
      "text/plain": [
       "array([[1., 0., 0.],\n",
       "       [0., 1., 0.],\n",
       "       [0., 0., 1.]])"
      ]
     },
     "execution_count": 28,
     "metadata": {},
     "output_type": "execute_result"
    }
   ],
   "source": [
    "I = np.identity(3)\n",
    "I"
   ]
  },
  {
   "cell_type": "code",
   "execution_count": 29,
   "id": "2e12240c",
   "metadata": {},
   "outputs": [
    {
     "data": {
      "text/plain": [
       "array([[ 1., -1.,  2.],\n",
       "       [ 3.,  2.,  2.],\n",
       "       [ 4.,  1.,  2.]])"
      ]
     },
     "execution_count": 29,
     "metadata": {},
     "output_type": "execute_result"
    }
   ],
   "source": [
    "A @ I"
   ]
  },
  {
   "cell_type": "code",
   "execution_count": 31,
   "id": "39c9932e",
   "metadata": {},
   "outputs": [
    {
     "data": {
      "text/plain": [
       "array([[-0.2, -0.4,  0.6],\n",
       "       [-0.2,  0.6, -0.4],\n",
       "       [ 0.5,  0.5, -0.5]])"
      ]
     },
     "execution_count": 31,
     "metadata": {},
     "output_type": "execute_result"
    }
   ],
   "source": [
    "#역행렬이 없어도 최대한 비슷한 효과를 낼 수 있는 역행렬을 리턴해줌\n",
    "A_inverse = np.linalg.pinv(A)\n",
    "A_inverse"
   ]
  },
  {
   "cell_type": "code",
   "execution_count": 32,
   "id": "49b65915",
   "metadata": {},
   "outputs": [
    {
     "data": {
      "text/plain": [
       "array([[ 1.00000000e+00,  6.66133815e-16, -1.11022302e-15],\n",
       "       [-2.22044605e-16,  1.00000000e+00, -6.66133815e-16],\n",
       "       [ 0.00000000e+00,  2.22044605e-16,  1.00000000e+00]])"
      ]
     },
     "execution_count": 32,
     "metadata": {},
     "output_type": "execute_result"
    }
   ],
   "source": [
    "A @ A_inverse"
   ]
  },
  {
   "cell_type": "code",
   "execution_count": null,
   "id": "844d586a",
   "metadata": {},
   "outputs": [],
   "source": []
  }
 ],
 "metadata": {
  "kernelspec": {
   "display_name": "Python 3 (ipykernel)",
   "language": "python",
   "name": "python3"
  },
  "language_info": {
   "codemirror_mode": {
    "name": "ipython",
    "version": 3
   },
   "file_extension": ".py",
   "mimetype": "text/x-python",
   "name": "python",
   "nbconvert_exporter": "python",
   "pygments_lexer": "ipython3",
   "version": "3.9.13"
  }
 },
 "nbformat": 4,
 "nbformat_minor": 5
}
